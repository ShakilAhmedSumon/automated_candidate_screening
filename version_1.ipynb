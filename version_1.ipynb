{
 "cells": [
  {
   "cell_type": "code",
   "execution_count": 1,
   "metadata": {},
   "outputs": [],
   "source": [
    "from parsel import Selector\n",
    "from selenium import webdriver\n",
    "from selenium.webdriver.common.keys import Keys\n",
    "import pandas as pd"
   ]
  },
  {
   "cell_type": "code",
   "execution_count": 2,
   "metadata": {},
   "outputs": [],
   "source": [
    "driver = webdriver.Chrome('E:/chromedriver_win32/chromedriver')"
   ]
  },
  {
   "cell_type": "code",
   "execution_count": 3,
   "metadata": {},
   "outputs": [],
   "source": [
    "driver.get('https://www.linkedin.com/')\n",
    "driver.find_element_by_xpath('//a[text()=\"Sign in\"]').click()\n",
    "username_input = driver.find_element_by_name('session_key')\n",
    "username_input.send_keys('ashakil007@gmail.com')\n",
    "password_input = driver.find_element_by_name('session_password')\n",
    "password_input.send_keys('16thdec1971')"
   ]
  },
  {
   "cell_type": "code",
   "execution_count": 4,
   "metadata": {},
   "outputs": [],
   "source": [
    "driver.find_element_by_xpath('//button[text()=\"Sign in\"]').click()"
   ]
  },
  {
   "cell_type": "code",
   "execution_count": 5,
   "metadata": {},
   "outputs": [],
   "source": [
    "driver.get('https://www.google.com/')"
   ]
  },
  {
   "cell_type": "code",
   "execution_count": 6,
   "metadata": {},
   "outputs": [],
   "source": [
    "search_input = driver.find_element_by_name('q')"
   ]
  },
  {
   "cell_type": "code",
   "execution_count": 7,
   "metadata": {},
   "outputs": [],
   "source": [
    "search_input.send_keys('site:linkedin.com/in/ AND \"Machine Learning\" AND \"Bangladesh\"')"
   ]
  },
  {
   "cell_type": "code",
   "execution_count": 8,
   "metadata": {},
   "outputs": [],
   "source": [
    "search_input.send_keys(Keys.RETURN)"
   ]
  },
  {
   "cell_type": "code",
   "execution_count": 9,
   "metadata": {},
   "outputs": [],
   "source": [
    "profiles = driver.find_elements_by_xpath('//*[@class=\"r\"]/a[1]')\n",
    "profiles = [profile.get_attribute('href') for profile in profiles]"
   ]
  },
  {
   "cell_type": "code",
   "execution_count": 12,
   "metadata": {},
   "outputs": [],
   "source": [
    "driver.get(profiles[1])"
   ]
  },
  {
   "cell_type": "code",
   "execution_count": 14,
   "metadata": {},
   "outputs": [
    {
     "data": {
      "text/plain": [
       "'Institute of Science, Trade and Technology'"
      ]
     },
     "execution_count": 14,
     "metadata": {},
     "output_type": "execute_result"
    }
   ],
   "source": [
    "driver.find_element_by_xpath('//span[@class = \"text-align-left ml2 t-14 t-black t-bold full-width lt-line-clamp lt-line-clamp--multi-line ember-view\"]').text"
   ]
  },
  {
   "cell_type": "code",
   "execution_count": 17,
   "metadata": {},
   "outputs": [
    {
     "data": {
      "text/plain": [
       "'Machine Learning Engineer(Intern) at HeadBlocks'"
      ]
     },
     "execution_count": 17,
     "metadata": {},
     "output_type": "execute_result"
    }
   ],
   "source": [
    "driver.find_element_by_xpath('//h2[@class=\"mt1 t-18 t-black t-normal break-words\"]').text"
   ]
  },
  {
   "cell_type": "code",
   "execution_count": null,
   "metadata": {},
   "outputs": [],
   "source": []
  },
  {
   "cell_type": "code",
   "execution_count": 67,
   "metadata": {},
   "outputs": [],
   "source": [
    "driver.get(profiles[9])\n",
    "sel = Selector(text=driver.page_source)"
   ]
  },
  {
   "cell_type": "code",
   "execution_count": 68,
   "metadata": {},
   "outputs": [
    {
     "data": {
      "text/plain": [
       "'(7) Mostafa Didar'"
      ]
     },
     "execution_count": 68,
     "metadata": {},
     "output_type": "execute_result"
    }
   ],
   "source": [
    "name_p = sel.xpath('//title/text()').extract_first().split(' | ')[0]\n",
    "name_p"
   ]
  },
  {
   "cell_type": "code",
   "execution_count": 83,
   "metadata": {},
   "outputs": [
    {
     "data": {
      "text/plain": [
       "' Early Advantage'"
      ]
     },
     "execution_count": 83,
     "metadata": {},
     "output_type": "execute_result"
    }
   ],
   "source": [
    "company_p = sel.xpath('/html/body/div[7]/div[3]/div/div/div/div/div[2]/main/div[1]/section/div[2]/div[2]/div[2]/ul/li[1]/a/span/text()')\n",
    "str(company_p[0]).split(\"data=' \")[1].split(\"\\\\n\")[0]"
   ]
  },
  {
   "cell_type": "code",
   "execution_count": 79,
   "metadata": {},
   "outputs": [
    {
     "data": {
      "text/plain": [
       "' North South University'"
      ]
     },
     "execution_count": 79,
     "metadata": {},
     "output_type": "execute_result"
    }
   ],
   "source": [
    "schools_p = sel.xpath('/html/body/div[7]/div[3]/div/div/div/div/div[2]/main/div[1]/section/div[2]/div[2]/div[2]/ul/li[2]/a/span/text()')\n",
    "str(schools_p).split(\"data=' \")[1].split(\"\\\\n\")[0]"
   ]
  },
  {
   "cell_type": "code",
   "execution_count": 92,
   "metadata": {},
   "outputs": [
    {
     "data": {
      "text/plain": [
       "'Co-Founder and CTO at Ea...'"
      ]
     },
     "execution_count": 92,
     "metadata": {},
     "output_type": "execute_result"
    }
   ],
   "source": [
    "job_title_p = sel.xpath('/html/body/div[7]/div[3]/div/div/div/div/div[2]/main/div[1]/section/div[2]/div[2]/div[1]/h2/text()')\n",
    "str(job_title_p).split(\"data='\\\\n\")[1].strip().split(\"'>\")[0]\n"
   ]
  },
  {
   "cell_type": "code",
   "execution_count": null,
   "metadata": {},
   "outputs": [],
   "source": [
    "/html/body/div[7]/div[3]/div/div/div/div/div[2]/main/div[1]/section/div[2]/div[2]/div[1]/h2"
   ]
  },
  {
   "cell_type": "code",
   "execution_count": null,
   "metadata": {},
   "outputs": [],
   "source": [
    "#ember423 > div.ph5.pb5 > div.display-flex.mt2 > div.flex-1.mr5 > h2"
   ]
  },
  {
   "cell_type": "code",
   "execution_count": null,
   "metadata": {},
   "outputs": [],
   "source": []
  },
  {
   "cell_type": "code",
   "execution_count": null,
   "metadata": {},
   "outputs": [],
   "source": []
  },
  {
   "cell_type": "code",
   "execution_count": 33,
   "metadata": {},
   "outputs": [
    {
     "name": "stdout",
     "output_type": "stream",
     "text": [
      "failed\n",
      "\n",
      "\n",
      "Kaiser Hamid Rabbi\n",
      "Software Engineer at Tig...\n",
      " TigerIT Bangladesh Ltd.\n",
      "[]\n",
      "\n",
      "\n",
      "\n",
      "\n",
      "Md. Rakib Hosen\n",
      "Machine Learning Enginee...\n",
      " Deep Learning Lab\n",
      " Institute of Science, Trade and Tec...'>]\n",
      "Bangladesh\n",
      "https://www.linkedin.com/in/md-rakib-hosen-8b2572118/?originalSubdomain=bd\n",
      "\n",
      "\n",
      "\n",
      "\n",
      "Harun Ur Rashid\n",
      "Trainee Machine Learning...\n",
      " Anun\n",
      " Daffodil International University-D...'>]\n",
      "Bangladesh\n",
      "https://www.linkedin.com/in/harun-ur-rashid6647/?originalSubdomain=bd\n",
      "\n",
      "\n",
      "failed\n",
      "\n",
      "\n",
      "Nishat Tasnim\n",
      "Machine Learning and Dee...\n",
      " DIU - NLP and Machine Learning  Res...'>\n",
      "[]\n",
      "\n",
      "\n",
      "\n",
      "\n",
      "Mamunur Rahaman\n",
      "Machine Learning Enginee...\n",
      " CHOWA GIKEN Corporation\n",
      " Khulna University of Engineering an...'>]\n",
      "Bangladesh\n",
      "https://www.linkedin.com/in/mamunur-rahaman-8876bbb5/?originalSubdomain=bd\n",
      "\n",
      "\n",
      "\n",
      "\n",
      "Md. Abdul Hasib (Sazzad)\n",
      "Staff Software Engineer ...\n",
      " deeplearning.ai\n",
      " Bangladesh University of Engineerin...'>]\n",
      "Bangladesh\n",
      "https://www.linkedin.com/in/md-abdul-hasib-sazzad-19b88099/?originalSubdomain=bd\n",
      "\n",
      "\n",
      "\n",
      "\n",
      "Mohammed Innat\n",
      "AI Software Engineer @ A...\n",
      " CHOWA GIKEN Corporation\n",
      " Khulna University of Engineering an...'>]\n",
      "Bangladesh\n",
      "https://www.linkedin.com/in/innat2k14/?originalSubdomain=bd\n",
      "\n",
      "\n",
      "\n",
      "\n",
      "Manash Kumar Mandal\n",
      "Machine Learning Consult...\n",
      " Bangladesh Computer Council\n",
      " Khulna University of Engineering an...'>]\n",
      "Bangladesh\n",
      "https://www.linkedin.com/in/manashkmandal/?originalSubdomain=bd\n",
      "\n",
      "\n",
      "\n",
      "\n",
      "Shaiful Islam\n",
      "Machine Learning Enginee...\n",
      " Wanderly\n",
      " Daffodil International University\n",
      "Bangladesh\n",
      "https://www.linkedin.com/in/shaiful365/?originalSubdomain=bd\n",
      "\n",
      "\n",
      "\n",
      "\n",
      "Mostafa Didar\n",
      "Co-Founder and CTO at Ea...\n",
      " Early Advantage\n",
      " North South University\n",
      "Bangladesh\n",
      "https://www.linkedin.com/in/mostafa-didar-226855140/?originalSubdomain=bd\n",
      "\n",
      "\n"
     ]
    }
   ],
   "source": [
    "name = []\n",
    "job_title = []\n",
    "company = []\n",
    "schools = []\n",
    "location = []\n",
    "ln_url = []\n",
    "\n",
    "for profile in profiles:\n",
    "    driver.get(profile)\n",
    "    location_p = ''\n",
    "    ln_url_p = ''\n",
    "    try:\n",
    "        sel = Selector(text=driver.page_source)\n",
    "        name_p = ''\n",
    "        name_p = sel.xpath('//title/text()').extract_first().split(' | ')[0]\n",
    "        company_p = ''\n",
    "        company_p = sel.xpath('/html/body/div[7]/div[3]/div/div/div/div/div[2]/main/div[1]/section/div[2]/div[2]/div[2]/ul/li[1]/a/span/text()')\n",
    "        company_p = str(company_p[0]).split(\"data=' \")[1].split(\"\\\\n\")[0]\n",
    "        job_title_p = ''\n",
    "        job_title_p = sel.xpath('/html/body/div[7]/div[3]/div/div/div/div/div[2]/main/div[1]/section/div[2]/div[2]/div[1]/h2/text()')\n",
    "        job_title_p = str(job_title_p).split(\"data='\\\\n\")[1].strip().split(\"'>\")[0]\n",
    "        schools_p = ''\n",
    "        schools_p = sel.xpath('/html/body/div[7]/div[3]/div/div/div/div/div[2]/main/div[1]/section/div[2]/div[2]/div[2]/ul/li[2]/a/span/text()')\n",
    "        schools_p = str(schools_p).split(\"data=' \")[1].split(\"\\\\n\")[0]\n",
    "        location_p = ''\n",
    "        location_p = sel.xpath('//*[@class=\"t-16 t-black t-normal inline-block\"]/text()').extract_first().strip()\n",
    "        ln_url_p = ''\n",
    "        ln_url_p = driver.current_url\n",
    "        \"\"\"\n",
    "        you can add another logic in case parsing is failed, ie because no job title is found\n",
    "        because the linkedin user isn't add it\n",
    "        \"\"\"\n",
    "    except:\n",
    "        print('failed')\n",
    "\n",
    "    # print to console for testing purpose\n",
    "    print('\\n')\n",
    "    print(name_p)\n",
    "    print(job_title_p)\n",
    "    print(company_p)\n",
    "    print(schools_p)\n",
    "    if location_p:\n",
    "        print(location_p)\n",
    "    if ln_url_p:\n",
    "        print(ln_url_p)\n",
    "    print('\\n')\n",
    "    if len(name_p) > 0:\n",
    "        name.append(name_p)\n",
    "    else: \n",
    "        name.append('Not Found')\n",
    "    \n",
    "    if len(job_title) > 0:\n",
    "        job_title.append(job_title_p)\n",
    "    else: \n",
    "        job_title.append('Not Found')\n",
    "    \n",
    "    if len(schools_p) > 0:\n",
    "        schools.append(schools_p)\n",
    "    else: \n",
    "        schools.append('Not Found')\n",
    "    \n",
    "    if len(location_p) > 0:\n",
    "        location.append(location_p)\n",
    "    else: \n",
    "        location.append('Not Found')\n",
    "    \n",
    "    if len(company_p) > 0:\n",
    "        company.append(company_p)\n",
    "    else: \n",
    "        company.append('Not Found')\n",
    "\n",
    "    ln_url.append(profile)"
   ]
  },
  {
   "cell_type": "code",
   "execution_count": 34,
   "metadata": {},
   "outputs": [
    {
     "data": {
      "text/plain": [
       "['Kaiser Hamid Rabbi',\n",
       " 'Md. Rakib Hosen',\n",
       " 'Harun Ur Rashid',\n",
       " 'Nishat Tasnim',\n",
       " 'Mamunur Rahaman',\n",
       " 'Md. Abdul Hasib (Sazzad)',\n",
       " 'Mohammed Innat',\n",
       " 'Manash Kumar Mandal',\n",
       " 'Shaiful Islam',\n",
       " 'Mostafa Didar']"
      ]
     },
     "execution_count": 34,
     "metadata": {},
     "output_type": "execute_result"
    }
   ],
   "source": [
    "name"
   ]
  },
  {
   "cell_type": "code",
   "execution_count": 35,
   "metadata": {},
   "outputs": [
    {
     "data": {
      "text/plain": [
       "['Not Found',\n",
       " 'Bangladesh',\n",
       " 'Bangladesh',\n",
       " 'Not Found',\n",
       " 'Bangladesh',\n",
       " 'Bangladesh',\n",
       " 'Bangladesh',\n",
       " 'Bangladesh',\n",
       " 'Bangladesh',\n",
       " 'Bangladesh']"
      ]
     },
     "execution_count": 35,
     "metadata": {},
     "output_type": "execute_result"
    }
   ],
   "source": [
    "location"
   ]
  },
  {
   "cell_type": "code",
   "execution_count": 32,
   "metadata": {},
   "outputs": [
    {
     "data": {
      "text/plain": [
       "['https://bd.linkedin.com/in/kaiserhamidrabbi',\n",
       " 'https://bd.linkedin.com/in/md-rakib-hosen-8b2572118',\n",
       " 'https://bd.linkedin.com/in/harun-ur-rashid6647',\n",
       " 'https://bd.linkedin.com/in/tasnimnisha2',\n",
       " 'https://bd.linkedin.com/in/mamunur-rahaman-8876bbb5',\n",
       " 'https://bd.linkedin.com/in/md-abdul-hasib-sazzad-19b88099',\n",
       " 'https://bd.linkedin.com/in/innat2k14',\n",
       " 'https://bd.linkedin.com/in/manashkmandal',\n",
       " 'https://bd.linkedin.com/in/shaiful365',\n",
       " 'https://bd.linkedin.com/in/mostafa-didar-226855140']"
      ]
     },
     "execution_count": 32,
     "metadata": {},
     "output_type": "execute_result"
    }
   ],
   "source": [
    "profiles"
   ]
  },
  {
   "cell_type": "code",
   "execution_count": null,
   "metadata": {},
   "outputs": [],
   "source": []
  },
  {
   "cell_type": "code",
   "execution_count": 17,
   "metadata": {},
   "outputs": [
    {
     "data": {
      "text/plain": [
       "10"
      ]
     },
     "execution_count": 17,
     "metadata": {},
     "output_type": "execute_result"
    }
   ],
   "source": [
    "len(name)"
   ]
  },
  {
   "cell_type": "code",
   "execution_count": 18,
   "metadata": {},
   "outputs": [
    {
     "data": {
      "text/plain": [
       "10"
      ]
     },
     "execution_count": 18,
     "metadata": {},
     "output_type": "execute_result"
    }
   ],
   "source": [
    "len(schools)"
   ]
  },
  {
   "cell_type": "code",
   "execution_count": 19,
   "metadata": {},
   "outputs": [
    {
     "data": {
      "text/plain": [
       "10"
      ]
     },
     "execution_count": 19,
     "metadata": {},
     "output_type": "execute_result"
    }
   ],
   "source": [
    "len(job_title)"
   ]
  },
  {
   "cell_type": "code",
   "execution_count": 20,
   "metadata": {},
   "outputs": [
    {
     "data": {
      "text/plain": [
       "10"
      ]
     },
     "execution_count": 20,
     "metadata": {},
     "output_type": "execute_result"
    }
   ],
   "source": [
    "len(location)"
   ]
  },
  {
   "cell_type": "code",
   "execution_count": null,
   "metadata": {},
   "outputs": [],
   "source": []
  },
  {
   "cell_type": "code",
   "execution_count": null,
   "metadata": {},
   "outputs": [],
   "source": []
  },
  {
   "cell_type": "code",
   "execution_count": 36,
   "metadata": {},
   "outputs": [],
   "source": [
    "df_dict = {\n",
    "    'Name' : name,\n",
    "    'Job Title': job_title,\n",
    "    'Company' : company,\n",
    "    'University': schools,\n",
    "    'Location' : location,\n",
    "    'Linked In Profile': ln_url\n",
    "}"
   ]
  },
  {
   "cell_type": "code",
   "execution_count": 37,
   "metadata": {},
   "outputs": [],
   "source": [
    "df = pd.DataFrame.from_dict(df_dict)"
   ]
  },
  {
   "cell_type": "code",
   "execution_count": 38,
   "metadata": {},
   "outputs": [
    {
     "data": {
      "text/html": [
       "<div>\n",
       "<style scoped>\n",
       "    .dataframe tbody tr th:only-of-type {\n",
       "        vertical-align: middle;\n",
       "    }\n",
       "\n",
       "    .dataframe tbody tr th {\n",
       "        vertical-align: top;\n",
       "    }\n",
       "\n",
       "    .dataframe thead th {\n",
       "        text-align: right;\n",
       "    }\n",
       "</style>\n",
       "<table border=\"1\" class=\"dataframe\">\n",
       "  <thead>\n",
       "    <tr style=\"text-align: right;\">\n",
       "      <th></th>\n",
       "      <th>Name</th>\n",
       "      <th>Job Title</th>\n",
       "      <th>Company</th>\n",
       "      <th>University</th>\n",
       "      <th>Location</th>\n",
       "      <th>Linked In Profile</th>\n",
       "    </tr>\n",
       "  </thead>\n",
       "  <tbody>\n",
       "    <tr>\n",
       "      <th>0</th>\n",
       "      <td>Kaiser Hamid Rabbi</td>\n",
       "      <td>Not Found</td>\n",
       "      <td>TigerIT Bangladesh Ltd.</td>\n",
       "      <td>Not Found</td>\n",
       "      <td>Not Found</td>\n",
       "      <td>https://bd.linkedin.com/in/kaiserhamidrabbi</td>\n",
       "    </tr>\n",
       "    <tr>\n",
       "      <th>1</th>\n",
       "      <td>Md. Rakib Hosen</td>\n",
       "      <td>Machine Learning Enginee...</td>\n",
       "      <td>Deep Learning Lab</td>\n",
       "      <td>Institute of Science, Trade and Tec...'&gt;]</td>\n",
       "      <td>Bangladesh</td>\n",
       "      <td>https://bd.linkedin.com/in/md-rakib-hosen-8b25...</td>\n",
       "    </tr>\n",
       "    <tr>\n",
       "      <th>2</th>\n",
       "      <td>Harun Ur Rashid</td>\n",
       "      <td>Trainee Machine Learning...</td>\n",
       "      <td>Anun</td>\n",
       "      <td>Daffodil International University-D...'&gt;]</td>\n",
       "      <td>Bangladesh</td>\n",
       "      <td>https://bd.linkedin.com/in/harun-ur-rashid6647</td>\n",
       "    </tr>\n",
       "    <tr>\n",
       "      <th>3</th>\n",
       "      <td>Nishat Tasnim</td>\n",
       "      <td>Machine Learning and Dee...</td>\n",
       "      <td>DIU - NLP and Machine Learning  Res...'&gt;</td>\n",
       "      <td>Not Found</td>\n",
       "      <td>Not Found</td>\n",
       "      <td>https://bd.linkedin.com/in/tasnimnisha2</td>\n",
       "    </tr>\n",
       "    <tr>\n",
       "      <th>4</th>\n",
       "      <td>Mamunur Rahaman</td>\n",
       "      <td>Machine Learning Enginee...</td>\n",
       "      <td>CHOWA GIKEN Corporation</td>\n",
       "      <td>Khulna University of Engineering an...'&gt;]</td>\n",
       "      <td>Bangladesh</td>\n",
       "      <td>https://bd.linkedin.com/in/mamunur-rahaman-887...</td>\n",
       "    </tr>\n",
       "    <tr>\n",
       "      <th>5</th>\n",
       "      <td>Md. Abdul Hasib (Sazzad)</td>\n",
       "      <td>Staff Software Engineer ...</td>\n",
       "      <td>deeplearning.ai</td>\n",
       "      <td>Bangladesh University of Engineerin...'&gt;]</td>\n",
       "      <td>Bangladesh</td>\n",
       "      <td>https://bd.linkedin.com/in/md-abdul-hasib-sazz...</td>\n",
       "    </tr>\n",
       "    <tr>\n",
       "      <th>6</th>\n",
       "      <td>Mohammed Innat</td>\n",
       "      <td>AI Software Engineer @ A...</td>\n",
       "      <td>CHOWA GIKEN Corporation</td>\n",
       "      <td>Khulna University of Engineering an...'&gt;]</td>\n",
       "      <td>Bangladesh</td>\n",
       "      <td>https://bd.linkedin.com/in/innat2k14</td>\n",
       "    </tr>\n",
       "    <tr>\n",
       "      <th>7</th>\n",
       "      <td>Manash Kumar Mandal</td>\n",
       "      <td>Machine Learning Consult...</td>\n",
       "      <td>Bangladesh Computer Council</td>\n",
       "      <td>Khulna University of Engineering an...'&gt;]</td>\n",
       "      <td>Bangladesh</td>\n",
       "      <td>https://bd.linkedin.com/in/manashkmandal</td>\n",
       "    </tr>\n",
       "    <tr>\n",
       "      <th>8</th>\n",
       "      <td>Shaiful Islam</td>\n",
       "      <td>Machine Learning Enginee...</td>\n",
       "      <td>Wanderly</td>\n",
       "      <td>Daffodil International University</td>\n",
       "      <td>Bangladesh</td>\n",
       "      <td>https://bd.linkedin.com/in/shaiful365</td>\n",
       "    </tr>\n",
       "    <tr>\n",
       "      <th>9</th>\n",
       "      <td>Mostafa Didar</td>\n",
       "      <td>Co-Founder and CTO at Ea...</td>\n",
       "      <td>Early Advantage</td>\n",
       "      <td>North South University</td>\n",
       "      <td>Bangladesh</td>\n",
       "      <td>https://bd.linkedin.com/in/mostafa-didar-22685...</td>\n",
       "    </tr>\n",
       "  </tbody>\n",
       "</table>\n",
       "</div>"
      ],
      "text/plain": [
       "                       Name                    Job Title  \\\n",
       "0        Kaiser Hamid Rabbi                    Not Found   \n",
       "1           Md. Rakib Hosen  Machine Learning Enginee...   \n",
       "2           Harun Ur Rashid  Trainee Machine Learning...   \n",
       "3             Nishat Tasnim  Machine Learning and Dee...   \n",
       "4           Mamunur Rahaman  Machine Learning Enginee...   \n",
       "5  Md. Abdul Hasib (Sazzad)  Staff Software Engineer ...   \n",
       "6            Mohammed Innat  AI Software Engineer @ A...   \n",
       "7       Manash Kumar Mandal  Machine Learning Consult...   \n",
       "8             Shaiful Islam  Machine Learning Enginee...   \n",
       "9             Mostafa Didar  Co-Founder and CTO at Ea...   \n",
       "\n",
       "                                     Company  \\\n",
       "0                    TigerIT Bangladesh Ltd.   \n",
       "1                          Deep Learning Lab   \n",
       "2                                       Anun   \n",
       "3   DIU - NLP and Machine Learning  Res...'>   \n",
       "4                    CHOWA GIKEN Corporation   \n",
       "5                            deeplearning.ai   \n",
       "6                    CHOWA GIKEN Corporation   \n",
       "7                Bangladesh Computer Council   \n",
       "8                                   Wanderly   \n",
       "9                            Early Advantage   \n",
       "\n",
       "                                   University    Location  \\\n",
       "0                                   Not Found   Not Found   \n",
       "1   Institute of Science, Trade and Tec...'>]  Bangladesh   \n",
       "2   Daffodil International University-D...'>]  Bangladesh   \n",
       "3                                   Not Found   Not Found   \n",
       "4   Khulna University of Engineering an...'>]  Bangladesh   \n",
       "5   Bangladesh University of Engineerin...'>]  Bangladesh   \n",
       "6   Khulna University of Engineering an...'>]  Bangladesh   \n",
       "7   Khulna University of Engineering an...'>]  Bangladesh   \n",
       "8           Daffodil International University  Bangladesh   \n",
       "9                      North South University  Bangladesh   \n",
       "\n",
       "                                   Linked In Profile  \n",
       "0        https://bd.linkedin.com/in/kaiserhamidrabbi  \n",
       "1  https://bd.linkedin.com/in/md-rakib-hosen-8b25...  \n",
       "2     https://bd.linkedin.com/in/harun-ur-rashid6647  \n",
       "3            https://bd.linkedin.com/in/tasnimnisha2  \n",
       "4  https://bd.linkedin.com/in/mamunur-rahaman-887...  \n",
       "5  https://bd.linkedin.com/in/md-abdul-hasib-sazz...  \n",
       "6               https://bd.linkedin.com/in/innat2k14  \n",
       "7           https://bd.linkedin.com/in/manashkmandal  \n",
       "8              https://bd.linkedin.com/in/shaiful365  \n",
       "9  https://bd.linkedin.com/in/mostafa-didar-22685...  "
      ]
     },
     "execution_count": 38,
     "metadata": {},
     "output_type": "execute_result"
    }
   ],
   "source": [
    "df"
   ]
  },
  {
   "cell_type": "code",
   "execution_count": 39,
   "metadata": {},
   "outputs": [],
   "source": [
    "df.to_excel('Candidate_Profile_ML.xlsx')"
   ]
  },
  {
   "cell_type": "code",
   "execution_count": 23,
   "metadata": {},
   "outputs": [],
   "source": [
    "from linkedin_scraper import Person, actions"
   ]
  },
  {
   "cell_type": "code",
   "execution_count": 28,
   "metadata": {},
   "outputs": [
    {
     "name": "stdout",
     "output_type": "stream",
     "text": [
      "you are not logged in!\n",
      "please verify the capcha then press any key to continue...hvhm\n"
     ]
    },
    {
     "ename": "KeyboardInterrupt",
     "evalue": "",
     "output_type": "error",
     "traceback": [
      "\u001b[1;31m---------------------------------------------------------------------------\u001b[0m",
      "\u001b[1;31mKeyboardInterrupt\u001b[0m                         Traceback (most recent call last)",
      "\u001b[1;32m~\\AppData\\Local\\Continuum\\anaconda3\\lib\\site-packages\\ipykernel\\kernelbase.py\u001b[0m in \u001b[0;36m_input_request\u001b[1;34m(self, prompt, ident, parent, password)\u001b[0m\n\u001b[0;32m    884\u001b[0m             \u001b[1;32mtry\u001b[0m\u001b[1;33m:\u001b[0m\u001b[1;33m\u001b[0m\u001b[1;33m\u001b[0m\u001b[0m\n\u001b[1;32m--> 885\u001b[1;33m                 \u001b[0mident\u001b[0m\u001b[1;33m,\u001b[0m \u001b[0mreply\u001b[0m \u001b[1;33m=\u001b[0m \u001b[0mself\u001b[0m\u001b[1;33m.\u001b[0m\u001b[0msession\u001b[0m\u001b[1;33m.\u001b[0m\u001b[0mrecv\u001b[0m\u001b[1;33m(\u001b[0m\u001b[0mself\u001b[0m\u001b[1;33m.\u001b[0m\u001b[0mstdin_socket\u001b[0m\u001b[1;33m,\u001b[0m \u001b[1;36m0\u001b[0m\u001b[1;33m)\u001b[0m\u001b[1;33m\u001b[0m\u001b[1;33m\u001b[0m\u001b[0m\n\u001b[0m\u001b[0;32m    886\u001b[0m             \u001b[1;32mexcept\u001b[0m \u001b[0mException\u001b[0m\u001b[1;33m:\u001b[0m\u001b[1;33m\u001b[0m\u001b[1;33m\u001b[0m\u001b[0m\n",
      "\u001b[1;32m~\\AppData\\Local\\Continuum\\anaconda3\\lib\\site-packages\\jupyter_client\\session.py\u001b[0m in \u001b[0;36mrecv\u001b[1;34m(self, socket, mode, content, copy)\u001b[0m\n\u001b[0;32m    802\u001b[0m         \u001b[1;32mtry\u001b[0m\u001b[1;33m:\u001b[0m\u001b[1;33m\u001b[0m\u001b[1;33m\u001b[0m\u001b[0m\n\u001b[1;32m--> 803\u001b[1;33m             \u001b[0mmsg_list\u001b[0m \u001b[1;33m=\u001b[0m \u001b[0msocket\u001b[0m\u001b[1;33m.\u001b[0m\u001b[0mrecv_multipart\u001b[0m\u001b[1;33m(\u001b[0m\u001b[0mmode\u001b[0m\u001b[1;33m,\u001b[0m \u001b[0mcopy\u001b[0m\u001b[1;33m=\u001b[0m\u001b[0mcopy\u001b[0m\u001b[1;33m)\u001b[0m\u001b[1;33m\u001b[0m\u001b[1;33m\u001b[0m\u001b[0m\n\u001b[0m\u001b[0;32m    804\u001b[0m         \u001b[1;32mexcept\u001b[0m \u001b[0mzmq\u001b[0m\u001b[1;33m.\u001b[0m\u001b[0mZMQError\u001b[0m \u001b[1;32mas\u001b[0m \u001b[0me\u001b[0m\u001b[1;33m:\u001b[0m\u001b[1;33m\u001b[0m\u001b[1;33m\u001b[0m\u001b[0m\n",
      "\u001b[1;32m~\\AppData\\Local\\Continuum\\anaconda3\\lib\\site-packages\\zmq\\sugar\\socket.py\u001b[0m in \u001b[0;36mrecv_multipart\u001b[1;34m(self, flags, copy, track)\u001b[0m\n\u001b[0;32m    474\u001b[0m         \"\"\"\n\u001b[1;32m--> 475\u001b[1;33m         \u001b[0mparts\u001b[0m \u001b[1;33m=\u001b[0m \u001b[1;33m[\u001b[0m\u001b[0mself\u001b[0m\u001b[1;33m.\u001b[0m\u001b[0mrecv\u001b[0m\u001b[1;33m(\u001b[0m\u001b[0mflags\u001b[0m\u001b[1;33m,\u001b[0m \u001b[0mcopy\u001b[0m\u001b[1;33m=\u001b[0m\u001b[0mcopy\u001b[0m\u001b[1;33m,\u001b[0m \u001b[0mtrack\u001b[0m\u001b[1;33m=\u001b[0m\u001b[0mtrack\u001b[0m\u001b[1;33m)\u001b[0m\u001b[1;33m]\u001b[0m\u001b[1;33m\u001b[0m\u001b[1;33m\u001b[0m\u001b[0m\n\u001b[0m\u001b[0;32m    476\u001b[0m         \u001b[1;31m# have first part already, only loop while more to receive\u001b[0m\u001b[1;33m\u001b[0m\u001b[1;33m\u001b[0m\u001b[1;33m\u001b[0m\u001b[0m\n",
      "\u001b[1;32mzmq/backend/cython/socket.pyx\u001b[0m in \u001b[0;36mzmq.backend.cython.socket.Socket.recv\u001b[1;34m()\u001b[0m\n",
      "\u001b[1;32mzmq/backend/cython/socket.pyx\u001b[0m in \u001b[0;36mzmq.backend.cython.socket.Socket.recv\u001b[1;34m()\u001b[0m\n",
      "\u001b[1;32mzmq/backend/cython/socket.pyx\u001b[0m in \u001b[0;36mzmq.backend.cython.socket._recv_copy\u001b[1;34m()\u001b[0m\n",
      "\u001b[1;32m~\\AppData\\Local\\Continuum\\anaconda3\\lib\\site-packages\\zmq\\backend\\cython\\checkrc.pxd\u001b[0m in \u001b[0;36mzmq.backend.cython.checkrc._check_rc\u001b[1;34m()\u001b[0m\n",
      "\u001b[1;31mKeyboardInterrupt\u001b[0m: ",
      "\nDuring handling of the above exception, another exception occurred:\n",
      "\u001b[1;31mKeyboardInterrupt\u001b[0m                         Traceback (most recent call last)",
      "\u001b[1;32m<ipython-input-28-2cd0ea2b71db>\u001b[0m in \u001b[0;36m<module>\u001b[1;34m\u001b[0m\n\u001b[1;32m----> 1\u001b[1;33m \u001b[0mperson\u001b[0m \u001b[1;33m=\u001b[0m \u001b[0mPerson\u001b[0m\u001b[1;33m(\u001b[0m\u001b[1;34m\"https://www.linkedin.com/in/mostafa-didar-226855140/?originalSubdomain=bd\"\u001b[0m\u001b[1;33m,\u001b[0m \u001b[0mdriver\u001b[0m\u001b[1;33m=\u001b[0m\u001b[0mdriver\u001b[0m\u001b[1;33m)\u001b[0m\u001b[1;33m\u001b[0m\u001b[1;33m\u001b[0m\u001b[0m\n\u001b[0m",
      "\u001b[1;32m~\\AppData\\Local\\Continuum\\anaconda3\\lib\\site-packages\\linkedin_scraper\\person.py\u001b[0m in \u001b[0;36m__init__\u001b[1;34m(self, linkedin_url, name, experiences, educations, interests, accomplishments, company, job_title, driver, get, scrape, close_on_complete)\u001b[0m\n\u001b[0;32m     38\u001b[0m \u001b[1;33m\u001b[0m\u001b[0m\n\u001b[0;32m     39\u001b[0m         \u001b[1;32mif\u001b[0m \u001b[0mscrape\u001b[0m\u001b[1;33m:\u001b[0m\u001b[1;33m\u001b[0m\u001b[1;33m\u001b[0m\u001b[0m\n\u001b[1;32m---> 40\u001b[1;33m             \u001b[0mself\u001b[0m\u001b[1;33m.\u001b[0m\u001b[0mscrape\u001b[0m\u001b[1;33m(\u001b[0m\u001b[0mclose_on_complete\u001b[0m\u001b[1;33m)\u001b[0m\u001b[1;33m\u001b[0m\u001b[1;33m\u001b[0m\u001b[0m\n\u001b[0m\u001b[0;32m     41\u001b[0m \u001b[1;33m\u001b[0m\u001b[0m\n\u001b[0;32m     42\u001b[0m     \u001b[1;32mdef\u001b[0m \u001b[0madd_experience\u001b[0m\u001b[1;33m(\u001b[0m\u001b[0mself\u001b[0m\u001b[1;33m,\u001b[0m \u001b[0mexperience\u001b[0m\u001b[1;33m)\u001b[0m\u001b[1;33m:\u001b[0m\u001b[1;33m\u001b[0m\u001b[1;33m\u001b[0m\u001b[0m\n",
      "\u001b[1;32m~\\AppData\\Local\\Continuum\\anaconda3\\lib\\site-packages\\linkedin_scraper\\person.py\u001b[0m in \u001b[0;36mscrape\u001b[1;34m(self, close_on_complete)\u001b[0m\n\u001b[0;32m     62\u001b[0m             \u001b[0mprint\u001b[0m\u001b[1;33m(\u001b[0m\u001b[1;34m'you are not logged in!'\u001b[0m\u001b[1;33m)\u001b[0m\u001b[1;33m\u001b[0m\u001b[1;33m\u001b[0m\u001b[0m\n\u001b[0;32m     63\u001b[0m             x = input(\n\u001b[1;32m---> 64\u001b[1;33m                 'please verify the capcha then press any key to continue...')\n\u001b[0m\u001b[0;32m     65\u001b[0m             \u001b[0mself\u001b[0m\u001b[1;33m.\u001b[0m\u001b[0mscrape_not_logged_in\u001b[0m\u001b[1;33m(\u001b[0m\u001b[0mclose_on_complete\u001b[0m\u001b[1;33m=\u001b[0m\u001b[0mclose_on_complete\u001b[0m\u001b[1;33m)\u001b[0m\u001b[1;33m\u001b[0m\u001b[1;33m\u001b[0m\u001b[0m\n\u001b[0;32m     66\u001b[0m \u001b[1;33m\u001b[0m\u001b[0m\n",
      "\u001b[1;32m~\\AppData\\Local\\Continuum\\anaconda3\\lib\\site-packages\\ipykernel\\kernelbase.py\u001b[0m in \u001b[0;36mraw_input\u001b[1;34m(self, prompt)\u001b[0m\n\u001b[0;32m    858\u001b[0m             \u001b[0mself\u001b[0m\u001b[1;33m.\u001b[0m\u001b[0m_parent_ident\u001b[0m\u001b[1;33m,\u001b[0m\u001b[1;33m\u001b[0m\u001b[1;33m\u001b[0m\u001b[0m\n\u001b[0;32m    859\u001b[0m             \u001b[0mself\u001b[0m\u001b[1;33m.\u001b[0m\u001b[0m_parent_header\u001b[0m\u001b[1;33m,\u001b[0m\u001b[1;33m\u001b[0m\u001b[1;33m\u001b[0m\u001b[0m\n\u001b[1;32m--> 860\u001b[1;33m             \u001b[0mpassword\u001b[0m\u001b[1;33m=\u001b[0m\u001b[1;32mFalse\u001b[0m\u001b[1;33m,\u001b[0m\u001b[1;33m\u001b[0m\u001b[1;33m\u001b[0m\u001b[0m\n\u001b[0m\u001b[0;32m    861\u001b[0m         )\n\u001b[0;32m    862\u001b[0m \u001b[1;33m\u001b[0m\u001b[0m\n",
      "\u001b[1;32m~\\AppData\\Local\\Continuum\\anaconda3\\lib\\site-packages\\ipykernel\\kernelbase.py\u001b[0m in \u001b[0;36m_input_request\u001b[1;34m(self, prompt, ident, parent, password)\u001b[0m\n\u001b[0;32m    888\u001b[0m             \u001b[1;32mexcept\u001b[0m \u001b[0mKeyboardInterrupt\u001b[0m\u001b[1;33m:\u001b[0m\u001b[1;33m\u001b[0m\u001b[1;33m\u001b[0m\u001b[0m\n\u001b[0;32m    889\u001b[0m                 \u001b[1;31m# re-raise KeyboardInterrupt, to truncate traceback\u001b[0m\u001b[1;33m\u001b[0m\u001b[1;33m\u001b[0m\u001b[1;33m\u001b[0m\u001b[0m\n\u001b[1;32m--> 890\u001b[1;33m                 \u001b[1;32mraise\u001b[0m \u001b[0mKeyboardInterrupt\u001b[0m\u001b[1;33m\u001b[0m\u001b[1;33m\u001b[0m\u001b[0m\n\u001b[0m\u001b[0;32m    891\u001b[0m             \u001b[1;32melse\u001b[0m\u001b[1;33m:\u001b[0m\u001b[1;33m\u001b[0m\u001b[1;33m\u001b[0m\u001b[0m\n\u001b[0;32m    892\u001b[0m                 \u001b[1;32mbreak\u001b[0m\u001b[1;33m\u001b[0m\u001b[1;33m\u001b[0m\u001b[0m\n",
      "\u001b[1;31mKeyboardInterrupt\u001b[0m: "
     ]
    }
   ],
   "source": [
    "person = Person(\"https://www.linkedin.com/in/mostafa-didar-226855140/?originalSubdomain=bd\", driver=driver)"
   ]
  },
  {
   "cell_type": "code",
   "execution_count": 25,
   "metadata": {},
   "outputs": [
    {
     "data": {
      "text/plain": [
       "Andre Iguodala\n",
       "\n",
       "Experience\n",
       "[]\n",
       "\n",
       "Education\n",
       "[]\n",
       "\n",
       "Interest\n",
       "[]\n",
       "\n",
       "Accomplishments\n",
       "[]"
      ]
     },
     "execution_count": 25,
     "metadata": {},
     "output_type": "execute_result"
    }
   ],
   "source": [
    "person"
   ]
  },
  {
   "cell_type": "code",
   "execution_count": 32,
   "metadata": {},
   "outputs": [],
   "source": [
    "email = \"ashakil007@gmail.com\"\n",
    "password = \"16thdec1971\"\n",
    "actions.login(driver, email, password)"
   ]
  },
  {
   "cell_type": "code",
   "execution_count": 33,
   "metadata": {},
   "outputs": [],
   "source": [
    "person = Person(\"https://www.linkedin.com/in/mostafa-didar-226855140/?originalSubdomain=bd\", driver=driver)"
   ]
  },
  {
   "cell_type": "code",
   "execution_count": 34,
   "metadata": {},
   "outputs": [
    {
     "data": {
      "text/plain": [
       "Mostafa Didar\n",
       "\n",
       "Experience\n",
       "[]\n",
       "\n",
       "Education\n",
       "[]\n",
       "\n",
       "Interest\n",
       "[]\n",
       "\n",
       "Accomplishments\n",
       "[]"
      ]
     },
     "execution_count": 34,
     "metadata": {},
     "output_type": "execute_result"
    }
   ],
   "source": [
    "person"
   ]
  },
  {
   "cell_type": "code",
   "execution_count": null,
   "metadata": {},
   "outputs": [],
   "source": [
    "//*[@id=\"ember445\"]"
   ]
  },
  {
   "cell_type": "code",
   "execution_count": 3,
   "metadata": {},
   "outputs": [],
   "source": [
    "driver.get('https://www.grameenphone.com/personal/plans-offers/internet-packages#volume_packs')"
   ]
  },
  {
   "cell_type": "code",
   "execution_count": 8,
   "metadata": {},
   "outputs": [],
   "source": [
    "page = Selector(text=driver.page_source)"
   ]
  },
  {
   "cell_type": "code",
   "execution_count": 9,
   "metadata": {},
   "outputs": [],
   "source": [
    "offer_mb = page.xpath('/html/body/div[2]/div[2]/div[3]/div/div/div[1]/div/div[2]/div[2]/div/div[1]/div/div/h2')"
   ]
  },
  {
   "cell_type": "code",
   "execution_count": 10,
   "metadata": {},
   "outputs": [
    {
     "data": {
      "text/plain": [
       "'8 GB '"
      ]
     },
     "execution_count": 10,
     "metadata": {},
     "output_type": "execute_result"
    }
   ],
   "source": [
    "str(offer_mb).split('data=\\'<h2 class=\"\">')[1].split('<')[0]"
   ]
  },
  {
   "cell_type": "code",
   "execution_count": 11,
   "metadata": {},
   "outputs": [],
   "source": [
    "offers = page.xpath('/html/body/div[2]/div[2]/div[3]/div/div/div[3]/div[1]/div/div/div[3]/div/div/table/thead/tr/th')"
   ]
  },
  {
   "cell_type": "code",
   "execution_count": 12,
   "metadata": {},
   "outputs": [
    {
     "data": {
      "text/plain": [
       "[<Selector xpath='/html/body/div[2]/div[2]/div[3]/div/div/div[3]/div[1]/div/div/div[3]/div/div/table/thead/tr/th' data='<th><strong>Volume </strong></th>'>,\n",
       " <Selector xpath='/html/body/div[2]/div[2]/div[3]/div/div/div[3]/div[1]/div/div/div[3]/div/div/table/thead/tr/th' data='<th><strong>Price </strong></th>'>,\n",
       " <Selector xpath='/html/body/div[2]/div[2]/div[3]/div/div/div[3]/div[1]/div/div/div[3]/div/div/table/thead/tr/th' data='<th><strong>Validity </strong></th>'>,\n",
       " <Selector xpath='/html/body/div[2]/div[2]/div[3]/div/div/div[3]/div[1]/div/div/div[3]/div/div/table/thead/tr/th' data='<th><strong>Activation Code </strong>...'>]"
      ]
     },
     "execution_count": 12,
     "metadata": {},
     "output_type": "execute_result"
    }
   ],
   "source": [
    "offers"
   ]
  },
  {
   "cell_type": "code",
   "execution_count": 13,
   "metadata": {},
   "outputs": [
    {
     "data": {
      "text/plain": [
       "[<Selector xpath='//*[@id=\"block-block-132\"]/div/div/div[3]/div/div/table/thead/tr/th' data='<th><strong>Volume </strong></th>'>,\n",
       " <Selector xpath='//*[@id=\"block-block-132\"]/div/div/div[3]/div/div/table/thead/tr/th' data='<th><strong>Price </strong></th>'>,\n",
       " <Selector xpath='//*[@id=\"block-block-132\"]/div/div/div[3]/div/div/table/thead/tr/th' data='<th><strong>Validity </strong></th>'>,\n",
       " <Selector xpath='//*[@id=\"block-block-132\"]/div/div/div[3]/div/div/table/thead/tr/th' data='<th><strong>Activation Code </strong>...'>]"
      ]
     },
     "execution_count": 13,
     "metadata": {},
     "output_type": "execute_result"
    }
   ],
   "source": [
    "page.xpath('//*[@id=\"block-block-132\"]/div/div/div[3]/div/div/table/thead/tr/th')"
   ]
  },
  {
   "cell_type": "code",
   "execution_count": 14,
   "metadata": {},
   "outputs": [
    {
     "data": {
      "text/plain": [
       "[<Selector xpath='//*[@id=\"block-block-132\"]/div/div/div[3]/div/div/table/tbody/tr/td[2]' data='<td>124</td>'>,\n",
       " <Selector xpath='//*[@id=\"block-block-132\"]/div/div/div[3]/div/div/table/tbody/tr/td[2]' data='<td>499</td>'>,\n",
       " <Selector xpath='//*[@id=\"block-block-132\"]/div/div/div[3]/div/div/table/tbody/tr/td[2]' data='<td>999</td>'>,\n",
       " <Selector xpath='//*[@id=\"block-block-132\"]/div/div/div[3]/div/div/table/tbody/tr/td[2]' data='<td>1,499</td>'>,\n",
       " <Selector xpath='//*[@id=\"block-block-132\"]/div/div/div[3]/div/div/table/tbody/tr/td[2]' data='<td>1,999</td>'>,\n",
       " <Selector xpath='//*[@id=\"block-block-132\"]/div/div/div[3]/div/div/table/tbody/tr/td[2]' data='<td>494</td>'>,\n",
       " <Selector xpath='//*[@id=\"block-block-132\"]/div/div/div[3]/div/div/table/tbody/tr/td[2]' data='<td>599</td>'>,\n",
       " <Selector xpath='//*[@id=\"block-block-132\"]/div/div/div[3]/div/div/table/tbody/tr/td[2]' data='<td>997</td>'>,\n",
       " <Selector xpath='//*[@id=\"block-block-132\"]/div/div/div[3]/div/div/table/tbody/tr/td[2]' data='<td>989</td>'>,\n",
       " <Selector xpath='//*[@id=\"block-block-132\"]/div/div/div[3]/div/div/table/tbody/tr/td[2]' data='<td>2.74</td>'>,\n",
       " <Selector xpath='//*[@id=\"block-block-132\"]/div/div/div[3]/div/div/table/tbody/tr/td[2]' data='<td>37</td>'>,\n",
       " <Selector xpath='//*[@id=\"block-block-132\"]/div/div/div[3]/div/div/table/tbody/tr/td[2]' data='<td>57</td>'>,\n",
       " <Selector xpath='//*[@id=\"block-block-132\"]/div/div/div[3]/div/div/table/tbody/tr/td[2]' data='<td>46</td>'>,\n",
       " <Selector xpath='//*[@id=\"block-block-132\"]/div/div/div[3]/div/div/table/tbody/tr/td[2]' data='<td>98</td>'>,\n",
       " <Selector xpath='//*[@id=\"block-block-132\"]/div/div/div[3]/div/div/table/tbody/tr/td[2]' data='<td>89</td>'>,\n",
       " <Selector xpath='//*[@id=\"block-block-132\"]/div/div/div[3]/div/div/table/tbody/tr/td[2]' data='<td>114</td>'>,\n",
       " <Selector xpath='//*[@id=\"block-block-132\"]/div/div/div[3]/div/div/table/tbody/tr/td[2]' data='<td>148</td>'>,\n",
       " <Selector xpath='//*[@id=\"block-block-132\"]/div/div/div[3]/div/div/table/tbody/tr/td[2]' data='<td>69</td>'>,\n",
       " <Selector xpath='//*[@id=\"block-block-132\"]/div/div/div[3]/div/div/table/tbody/tr/td[2]' data='<td>189</td>'>,\n",
       " <Selector xpath='//*[@id=\"block-block-132\"]/div/div/div[3]/div/div/table/tbody/tr/td[2]' data='<td>198</td>'>,\n",
       " <Selector xpath='//*[@id=\"block-block-132\"]/div/div/div[3]/div/div/table/tbody/tr/td[2]' data='<td>258</td>'>,\n",
       " <Selector xpath='//*[@id=\"block-block-132\"]/div/div/div[3]/div/div/table/tbody/tr/td[2]' data='<td>289</td>'>,\n",
       " <Selector xpath='//*[@id=\"block-block-132\"]/div/div/div[3]/div/div/table/tbody/tr/td[2]' data='<td>299</td>'>,\n",
       " <Selector xpath='//*[@id=\"block-block-132\"]/div/div/div[3]/div/div/table/tbody/tr/td[2]' data='<td>399</td>'>,\n",
       " <Selector xpath='//*[@id=\"block-block-132\"]/div/div/div[3]/div/div/table/tbody/tr/td[2]' data='<td>498</td>'>,\n",
       " <Selector xpath='//*[@id=\"block-block-132\"]/div/div/div[3]/div/div/table/tbody/tr/td[2]' data='<td>649</td>'>,\n",
       " <Selector xpath='//*[@id=\"block-block-132\"]/div/div/div[3]/div/div/table/tbody/tr/td[2]' data='<td>998</td>'>,\n",
       " <Selector xpath='//*[@id=\"block-block-132\"]/div/div/div[3]/div/div/table/tbody/tr/td[2]' data='<td>6.56</td>'>,\n",
       " <Selector xpath='//*[@id=\"block-block-132\"]/div/div/div[3]/div/div/table/tbody/tr/td[2]' data='<td>1.64</td>'>,\n",
       " <Selector xpath='//*[@id=\"block-block-132\"]/div/div/div[3]/div/div/table/tbody/tr/td[2]' data='<td>5</td>'>,\n",
       " <Selector xpath='//*[@id=\"block-block-132\"]/div/div/div[3]/div/div/table/tbody/tr/td[2]' data='<td>20</td>'>,\n",
       " <Selector xpath='//*[@id=\"block-block-132\"]/div/div/div[3]/div/div/table/tbody/tr/td[2]' data='<td>6.56</td>'>,\n",
       " <Selector xpath='//*[@id=\"block-block-132\"]/div/div/div[3]/div/div/table/tbody/tr/td[2]' data='<td>83</td>'>,\n",
       " <Selector xpath='//*[@id=\"block-block-132\"]/div/div/div[3]/div/div/table/tbody/tr/td[2]' data='<td>261</td>'>,\n",
       " <Selector xpath='//*[@id=\"block-block-132\"]/div/div/div[3]/div/div/table/tbody/tr/td[2]' data='<td>435</td>'>,\n",
       " <Selector xpath='//*[@id=\"block-block-132\"]/div/div/div[3]/div/div/table/tbody/tr/td[2]' data='<td>567</td>'>,\n",
       " <Selector xpath='//*[@id=\"block-block-132\"]/div/div/div[3]/div/div/table/tbody/tr/td[2]' data='<td>723</td>'>,\n",
       " <Selector xpath='//*[@id=\"block-block-132\"]/div/div/div[3]/div/div/table/tbody/tr/td[2]' data='<td>819</td>'>]"
      ]
     },
     "execution_count": 14,
     "metadata": {},
     "output_type": "execute_result"
    }
   ],
   "source": [
    "page.xpath('//*[@id=\"block-block-132\"]/div/div/div[3]/div/div/table/tbody/tr/td[2]')"
   ]
  },
  {
   "cell_type": "code",
   "execution_count": 15,
   "metadata": {},
   "outputs": [
    {
     "data": {
      "text/plain": [
       "[<Selector xpath='//*[@id=\"block-block-132\"]/div/div/div[3]/div/div/table/tbody' data='<tbody><tr><td><strong>6GB 4G Pack</s...'>]"
      ]
     },
     "execution_count": 15,
     "metadata": {},
     "output_type": "execute_result"
    }
   ],
   "source": [
    "page.xpath('//*[@id=\"block-block-132\"]/div/div/div[3]/div/div/table/tbody')"
   ]
  },
  {
   "cell_type": "code",
   "execution_count": 16,
   "metadata": {},
   "outputs": [],
   "source": [
    "table =  driver.find_element_by_xpath(\"//table[@class='table table-row-bordered']\")"
   ]
  },
  {
   "cell_type": "code",
   "execution_count": 17,
   "metadata": {},
   "outputs": [
    {
     "data": {
      "text/plain": [
       "<selenium.webdriver.remote.webelement.WebElement (session=\"8971833f11eb1290c094ed22e92b6cfd\", element=\"a85eec6f-8c95-4d4c-9acb-c72523c6da8f\")>"
      ]
     },
     "execution_count": 17,
     "metadata": {},
     "output_type": "execute_result"
    }
   ],
   "source": [
    "table"
   ]
  },
  {
   "cell_type": "code",
   "execution_count": 19,
   "metadata": {},
   "outputs": [
    {
     "name": "stdout",
     "output_type": "stream",
     "text": [
      "[<selenium.webdriver.remote.webelement.WebElement (session=\"8971833f11eb1290c094ed22e92b6cfd\", element=\"547098cd-5440-45f0-862d-6f46cff02fca\")>, <selenium.webdriver.remote.webelement.WebElement (session=\"8971833f11eb1290c094ed22e92b6cfd\", element=\"84c2ed20-97ef-48f3-8afd-764835165017\")>, <selenium.webdriver.remote.webelement.WebElement (session=\"8971833f11eb1290c094ed22e92b6cfd\", element=\"9a7fa8bc-2f68-4998-89d6-8dc5ff03e6b9\")>, <selenium.webdriver.remote.webelement.WebElement (session=\"8971833f11eb1290c094ed22e92b6cfd\", element=\"f3e0d42a-b459-40aa-bacc-82b74c55163f\")>, <selenium.webdriver.remote.webelement.WebElement (session=\"8971833f11eb1290c094ed22e92b6cfd\", element=\"1ff21149-deef-4853-9d3e-ba71e6f248ec\")>, <selenium.webdriver.remote.webelement.WebElement (session=\"8971833f11eb1290c094ed22e92b6cfd\", element=\"bcd75db5-c025-4243-b40b-9cf612850040\")>, <selenium.webdriver.remote.webelement.WebElement (session=\"8971833f11eb1290c094ed22e92b6cfd\", element=\"5aedb4c5-91b9-4907-b955-08618e46bf97\")>, <selenium.webdriver.remote.webelement.WebElement (session=\"8971833f11eb1290c094ed22e92b6cfd\", element=\"96fd5ce0-6180-4459-a324-fa273203fa25\")>, <selenium.webdriver.remote.webelement.WebElement (session=\"8971833f11eb1290c094ed22e92b6cfd\", element=\"8aad69a3-3ae8-426a-89db-091dd9a16663\")>, <selenium.webdriver.remote.webelement.WebElement (session=\"8971833f11eb1290c094ed22e92b6cfd\", element=\"76d7eac7-bb65-4edd-8fb9-3ada99ddae88\")>, <selenium.webdriver.remote.webelement.WebElement (session=\"8971833f11eb1290c094ed22e92b6cfd\", element=\"6c40b6ea-8af9-48ef-982c-47a16bc56599\")>, <selenium.webdriver.remote.webelement.WebElement (session=\"8971833f11eb1290c094ed22e92b6cfd\", element=\"654e0ff9-cc1c-4f4a-9f11-251f14f5d349\")>, <selenium.webdriver.remote.webelement.WebElement (session=\"8971833f11eb1290c094ed22e92b6cfd\", element=\"6e000a3a-a4f7-44b4-998b-2e4e43dca175\")>, <selenium.webdriver.remote.webelement.WebElement (session=\"8971833f11eb1290c094ed22e92b6cfd\", element=\"5026f83b-43d7-49cf-9ece-3955905128a1\")>, <selenium.webdriver.remote.webelement.WebElement (session=\"8971833f11eb1290c094ed22e92b6cfd\", element=\"30926d9c-70d4-4409-b2ae-7deb10d4cf3b\")>, <selenium.webdriver.remote.webelement.WebElement (session=\"8971833f11eb1290c094ed22e92b6cfd\", element=\"e2e10793-903c-40de-9949-fd575e94e401\")>, <selenium.webdriver.remote.webelement.WebElement (session=\"8971833f11eb1290c094ed22e92b6cfd\", element=\"0ccfdcd5-7543-48b1-bbd8-ab994c144b57\")>, <selenium.webdriver.remote.webelement.WebElement (session=\"8971833f11eb1290c094ed22e92b6cfd\", element=\"64425774-4cac-400c-b301-b418f9dfb310\")>, <selenium.webdriver.remote.webelement.WebElement (session=\"8971833f11eb1290c094ed22e92b6cfd\", element=\"a6a4c7e6-ed64-4a7e-88fb-41059047104b\")>, <selenium.webdriver.remote.webelement.WebElement (session=\"8971833f11eb1290c094ed22e92b6cfd\", element=\"50ba7cd2-49fa-4944-85e0-a07aa3a282b9\")>, <selenium.webdriver.remote.webelement.WebElement (session=\"8971833f11eb1290c094ed22e92b6cfd\", element=\"5dcd064b-fd23-464f-8576-d2dad16d9d5c\")>, <selenium.webdriver.remote.webelement.WebElement (session=\"8971833f11eb1290c094ed22e92b6cfd\", element=\"023fbf81-f0a4-4d2b-a596-654b03356181\")>, <selenium.webdriver.remote.webelement.WebElement (session=\"8971833f11eb1290c094ed22e92b6cfd\", element=\"e23d579c-d550-4cc2-a985-057814a4627e\")>, <selenium.webdriver.remote.webelement.WebElement (session=\"8971833f11eb1290c094ed22e92b6cfd\", element=\"3fc5eb4f-ef3a-4220-aec4-55e800959721\")>, <selenium.webdriver.remote.webelement.WebElement (session=\"8971833f11eb1290c094ed22e92b6cfd\", element=\"568046da-33be-4b87-a79b-52d469fd0d2d\")>, <selenium.webdriver.remote.webelement.WebElement (session=\"8971833f11eb1290c094ed22e92b6cfd\", element=\"a7adca68-8825-4a72-a437-d9b89097fa24\")>, <selenium.webdriver.remote.webelement.WebElement (session=\"8971833f11eb1290c094ed22e92b6cfd\", element=\"8415473a-1cb4-4b90-98c7-7a5284cf860e\")>, <selenium.webdriver.remote.webelement.WebElement (session=\"8971833f11eb1290c094ed22e92b6cfd\", element=\"8c65cb9d-d8ca-4bd6-b338-e0ab9c8595de\")>, <selenium.webdriver.remote.webelement.WebElement (session=\"8971833f11eb1290c094ed22e92b6cfd\", element=\"13103d07-6626-42c5-8316-db27badc2833\")>, <selenium.webdriver.remote.webelement.WebElement (session=\"8971833f11eb1290c094ed22e92b6cfd\", element=\"10abd8d3-9082-402d-86c2-1aedab481b19\")>, <selenium.webdriver.remote.webelement.WebElement (session=\"8971833f11eb1290c094ed22e92b6cfd\", element=\"22fa3b71-798a-4b09-9523-c2c925901d5e\")>, <selenium.webdriver.remote.webelement.WebElement (session=\"8971833f11eb1290c094ed22e92b6cfd\", element=\"dd0bc7ec-2a56-435c-8ed3-aff1627379e0\")>, <selenium.webdriver.remote.webelement.WebElement (session=\"8971833f11eb1290c094ed22e92b6cfd\", element=\"9aa6da41-5f54-40ef-95cd-632a40b0a233\")>, <selenium.webdriver.remote.webelement.WebElement (session=\"8971833f11eb1290c094ed22e92b6cfd\", element=\"22881c08-d34a-4413-a7ec-de1edf4cf4cb\")>, <selenium.webdriver.remote.webelement.WebElement (session=\"8971833f11eb1290c094ed22e92b6cfd\", element=\"cb7c53e3-eb02-44c2-9cd9-d5ad25ebe718\")>, <selenium.webdriver.remote.webelement.WebElement (session=\"8971833f11eb1290c094ed22e92b6cfd\", element=\"d604d857-f37d-4275-8a4c-444d1b6a6ab7\")>, <selenium.webdriver.remote.webelement.WebElement (session=\"8971833f11eb1290c094ed22e92b6cfd\", element=\"cba9c56b-cc7c-41fd-b0d3-b5787fb976fe\")>, <selenium.webdriver.remote.webelement.WebElement (session=\"8971833f11eb1290c094ed22e92b6cfd\", element=\"6883915a-1f94-47fc-b097-3dc948e8a524\")>, <selenium.webdriver.remote.webelement.WebElement (session=\"8971833f11eb1290c094ed22e92b6cfd\", element=\"87ca7f52-9372-44a1-9693-9fd5bad3a3c2\")>]\n"
     ]
    }
   ],
   "source": [
    "print(table.find_elements_by_xpath(\".//tr\"))"
   ]
  },
  {
   "cell_type": "code",
   "execution_count": 22,
   "metadata": {},
   "outputs": [
    {
     "name": "stdout",
     "output_type": "stream",
     "text": [
      "<selenium.webdriver.remote.webelement.WebElement (session=\"8971833f11eb1290c094ed22e92b6cfd\", element=\"0a63a03c-bc4e-469d-8946-0c53ade8cf86\")>\n",
      "<selenium.webdriver.remote.webelement.WebElement (session=\"8971833f11eb1290c094ed22e92b6cfd\", element=\"09afec75-2d74-470b-8ebc-622e75516b3d\")>\n",
      "<selenium.webdriver.remote.webelement.WebElement (session=\"8971833f11eb1290c094ed22e92b6cfd\", element=\"80dcbbe5-a57d-453c-a8e3-a71d74968e4f\")>\n",
      "<selenium.webdriver.remote.webelement.WebElement (session=\"8971833f11eb1290c094ed22e92b6cfd\", element=\"9ec17ca4-0749-4a61-8947-aaec911e2be3\")>\n",
      "<selenium.webdriver.remote.webelement.WebElement (session=\"8971833f11eb1290c094ed22e92b6cfd\", element=\"3d748153-9817-4fc7-b2cb-a784cea8e94d\")>\n",
      "<selenium.webdriver.remote.webelement.WebElement (session=\"8971833f11eb1290c094ed22e92b6cfd\", element=\"3b21ced3-f6b8-4d0a-adf6-39b9337f99b3\")>\n",
      "<selenium.webdriver.remote.webelement.WebElement (session=\"8971833f11eb1290c094ed22e92b6cfd\", element=\"c74054be-d0de-4f01-83fe-d669bc468389\")>\n",
      "<selenium.webdriver.remote.webelement.WebElement (session=\"8971833f11eb1290c094ed22e92b6cfd\", element=\"fa71ff9c-5657-423f-9419-714019e42b3f\")>\n",
      "<selenium.webdriver.remote.webelement.WebElement (session=\"8971833f11eb1290c094ed22e92b6cfd\", element=\"e96154c8-9932-4d6d-8b0a-7b96a58771fc\")>\n",
      "<selenium.webdriver.remote.webelement.WebElement (session=\"8971833f11eb1290c094ed22e92b6cfd\", element=\"1556389d-e178-4cb9-8e7e-66cb07278659\")>\n",
      "<selenium.webdriver.remote.webelement.WebElement (session=\"8971833f11eb1290c094ed22e92b6cfd\", element=\"8f9d3103-c774-41b1-b2f6-a9bf6d3fdb08\")>\n",
      "<selenium.webdriver.remote.webelement.WebElement (session=\"8971833f11eb1290c094ed22e92b6cfd\", element=\"3a7014dd-085b-4998-9903-8922481c260c\")>\n",
      "<selenium.webdriver.remote.webelement.WebElement (session=\"8971833f11eb1290c094ed22e92b6cfd\", element=\"08d228c4-e652-49fd-b4e9-02e28e86bf5a\")>\n",
      "<selenium.webdriver.remote.webelement.WebElement (session=\"8971833f11eb1290c094ed22e92b6cfd\", element=\"be50570a-a045-4850-a51e-bf37ec215ce7\")>\n",
      "<selenium.webdriver.remote.webelement.WebElement (session=\"8971833f11eb1290c094ed22e92b6cfd\", element=\"95841665-a678-4983-a5e2-a6ce29ac23a7\")>\n",
      "<selenium.webdriver.remote.webelement.WebElement (session=\"8971833f11eb1290c094ed22e92b6cfd\", element=\"f2991433-59ba-49a8-bdc7-f1ca256d70d8\")>\n",
      "<selenium.webdriver.remote.webelement.WebElement (session=\"8971833f11eb1290c094ed22e92b6cfd\", element=\"857c4693-b55e-48b2-93a0-0caf71a308cd\")>\n",
      "<selenium.webdriver.remote.webelement.WebElement (session=\"8971833f11eb1290c094ed22e92b6cfd\", element=\"84659fe4-a587-4dc8-86d5-5dc879c3bf7f\")>\n",
      "<selenium.webdriver.remote.webelement.WebElement (session=\"8971833f11eb1290c094ed22e92b6cfd\", element=\"fc08cc98-6a63-4d7c-aa00-c9c731934a87\")>\n",
      "<selenium.webdriver.remote.webelement.WebElement (session=\"8971833f11eb1290c094ed22e92b6cfd\", element=\"884672f0-d6ba-41c9-9362-090daa82dbc3\")>\n",
      "<selenium.webdriver.remote.webelement.WebElement (session=\"8971833f11eb1290c094ed22e92b6cfd\", element=\"8cf9d677-7980-4f80-a0a8-846f1e1c1d41\")>\n",
      "<selenium.webdriver.remote.webelement.WebElement (session=\"8971833f11eb1290c094ed22e92b6cfd\", element=\"1a667957-1749-46bd-9687-039494cac960\")>\n",
      "<selenium.webdriver.remote.webelement.WebElement (session=\"8971833f11eb1290c094ed22e92b6cfd\", element=\"94079b15-1ffc-401d-a490-b3497f044930\")>\n",
      "<selenium.webdriver.remote.webelement.WebElement (session=\"8971833f11eb1290c094ed22e92b6cfd\", element=\"8cee244f-f050-4983-98b3-62e6c9f8095a\")>\n",
      "<selenium.webdriver.remote.webelement.WebElement (session=\"8971833f11eb1290c094ed22e92b6cfd\", element=\"b6116dd1-8b44-4fea-b344-4f7e56b5b4f4\")>\n",
      "<selenium.webdriver.remote.webelement.WebElement (session=\"8971833f11eb1290c094ed22e92b6cfd\", element=\"d1414341-1738-4420-bfc5-2264ce818a51\")>\n",
      "<selenium.webdriver.remote.webelement.WebElement (session=\"8971833f11eb1290c094ed22e92b6cfd\", element=\"95b6a16f-44ce-4aae-827b-2cb7e929c364\")>\n",
      "<selenium.webdriver.remote.webelement.WebElement (session=\"8971833f11eb1290c094ed22e92b6cfd\", element=\"3185d679-a73a-4717-b31f-87ec42ef8c82\")>\n",
      "<selenium.webdriver.remote.webelement.WebElement (session=\"8971833f11eb1290c094ed22e92b6cfd\", element=\"fcbd2393-5e98-4efe-b751-428ff73fe6ea\")>\n",
      "<selenium.webdriver.remote.webelement.WebElement (session=\"8971833f11eb1290c094ed22e92b6cfd\", element=\"7c873b40-bbea-4873-941b-c0b3f66ef181\")>\n",
      "<selenium.webdriver.remote.webelement.WebElement (session=\"8971833f11eb1290c094ed22e92b6cfd\", element=\"7d65d51e-d1b3-4824-96ab-675fb71031cb\")>\n",
      "<selenium.webdriver.remote.webelement.WebElement (session=\"8971833f11eb1290c094ed22e92b6cfd\", element=\"0a8e405f-71ca-4baa-8c69-cd6a45a32c08\")>\n",
      "<selenium.webdriver.remote.webelement.WebElement (session=\"8971833f11eb1290c094ed22e92b6cfd\", element=\"8f59375d-e675-483e-bd4d-60faa7bab398\")>\n",
      "<selenium.webdriver.remote.webelement.WebElement (session=\"8971833f11eb1290c094ed22e92b6cfd\", element=\"de05001f-3fcc-44d7-bb3d-ffb1dddc8a1d\")>\n",
      "<selenium.webdriver.remote.webelement.WebElement (session=\"8971833f11eb1290c094ed22e92b6cfd\", element=\"3fc1b59f-bc53-4dc1-ab33-834d99acc2c5\")>\n",
      "<selenium.webdriver.remote.webelement.WebElement (session=\"8971833f11eb1290c094ed22e92b6cfd\", element=\"4ca9cb8d-f5e9-487b-a04a-6459cadbef98\")>\n",
      "<selenium.webdriver.remote.webelement.WebElement (session=\"8971833f11eb1290c094ed22e92b6cfd\", element=\"bbb4c226-cb0e-4fb7-a283-b76b1690a3da\")>\n",
      "<selenium.webdriver.remote.webelement.WebElement (session=\"8971833f11eb1290c094ed22e92b6cfd\", element=\"7f5817a3-04e4-4ec4-88f0-3c63a40c7c6c\")>\n",
      "<selenium.webdriver.remote.webelement.WebElement (session=\"8971833f11eb1290c094ed22e92b6cfd\", element=\"f170319e-b2b1-4bdf-bf01-2e53d839c0d2\")>\n",
      "<selenium.webdriver.remote.webelement.WebElement (session=\"8971833f11eb1290c094ed22e92b6cfd\", element=\"75b01e03-f0a3-49fc-bdbf-34335568b46a\")>\n",
      "<selenium.webdriver.remote.webelement.WebElement (session=\"8971833f11eb1290c094ed22e92b6cfd\", element=\"10161ffe-598a-439e-ba4f-92c48824190d\")>\n",
      "<selenium.webdriver.remote.webelement.WebElement (session=\"8971833f11eb1290c094ed22e92b6cfd\", element=\"76199918-cc72-4a47-862e-b7e14d552251\")>\n",
      "<selenium.webdriver.remote.webelement.WebElement (session=\"8971833f11eb1290c094ed22e92b6cfd\", element=\"4cfb3fc8-8876-4a79-9e8f-d10fe87ce22b\")>\n",
      "<selenium.webdriver.remote.webelement.WebElement (session=\"8971833f11eb1290c094ed22e92b6cfd\", element=\"ed14bb76-d74a-41b2-b0c9-3dc0f6a3630a\")>\n",
      "<selenium.webdriver.remote.webelement.WebElement (session=\"8971833f11eb1290c094ed22e92b6cfd\", element=\"bdd51060-3eac-43f8-ba9c-fef39baeb429\")>\n",
      "<selenium.webdriver.remote.webelement.WebElement (session=\"8971833f11eb1290c094ed22e92b6cfd\", element=\"80b4140e-2105-44cd-8b5e-de4f641a4869\")>\n",
      "<selenium.webdriver.remote.webelement.WebElement (session=\"8971833f11eb1290c094ed22e92b6cfd\", element=\"a13752c8-10da-4068-9ef0-945e1e2753f7\")>\n",
      "<selenium.webdriver.remote.webelement.WebElement (session=\"8971833f11eb1290c094ed22e92b6cfd\", element=\"7f502b81-b456-471a-a804-cef35a02a268\")>\n",
      "<selenium.webdriver.remote.webelement.WebElement (session=\"8971833f11eb1290c094ed22e92b6cfd\", element=\"246292ea-4615-4949-b6f1-e99ba7045b1e\")>\n",
      "<selenium.webdriver.remote.webelement.WebElement (session=\"8971833f11eb1290c094ed22e92b6cfd\", element=\"f408fc9b-c8f5-4560-92ea-33e00d3ecbba\")>\n",
      "<selenium.webdriver.remote.webelement.WebElement (session=\"8971833f11eb1290c094ed22e92b6cfd\", element=\"b36a5c89-2c64-4ea8-bad8-302f2271ca48\")>\n",
      "<selenium.webdriver.remote.webelement.WebElement (session=\"8971833f11eb1290c094ed22e92b6cfd\", element=\"deb38c2c-e15f-4c72-b9d8-6fdd9db9d659\")>\n",
      "<selenium.webdriver.remote.webelement.WebElement (session=\"8971833f11eb1290c094ed22e92b6cfd\", element=\"da7c8a58-c398-48e9-9c29-8fe9e7882c50\")>\n",
      "<selenium.webdriver.remote.webelement.WebElement (session=\"8971833f11eb1290c094ed22e92b6cfd\", element=\"feb0a890-a81d-4907-add1-9887d0ae1a49\")>\n",
      "<selenium.webdriver.remote.webelement.WebElement (session=\"8971833f11eb1290c094ed22e92b6cfd\", element=\"3b424980-377c-4b21-949b-4eb7b465c8b6\")>\n",
      "<selenium.webdriver.remote.webelement.WebElement (session=\"8971833f11eb1290c094ed22e92b6cfd\", element=\"deb42c5a-3bf0-419d-a702-8c0d561a8c39\")>\n",
      "<selenium.webdriver.remote.webelement.WebElement (session=\"8971833f11eb1290c094ed22e92b6cfd\", element=\"024f78c0-b0df-4c71-abce-118da7a05544\")>\n",
      "<selenium.webdriver.remote.webelement.WebElement (session=\"8971833f11eb1290c094ed22e92b6cfd\", element=\"f2a0fee6-b406-4043-bcfc-a86e38667209\")>\n",
      "<selenium.webdriver.remote.webelement.WebElement (session=\"8971833f11eb1290c094ed22e92b6cfd\", element=\"097539c8-686f-4ba8-b92d-b2ae8f42e6d6\")>\n",
      "<selenium.webdriver.remote.webelement.WebElement (session=\"8971833f11eb1290c094ed22e92b6cfd\", element=\"d3831ea4-4b4d-4e59-bf43-b45d14b2e279\")>\n",
      "<selenium.webdriver.remote.webelement.WebElement (session=\"8971833f11eb1290c094ed22e92b6cfd\", element=\"952a50b7-217a-42d4-a01b-edf54f75b585\")>\n",
      "<selenium.webdriver.remote.webelement.WebElement (session=\"8971833f11eb1290c094ed22e92b6cfd\", element=\"9a94f984-0b57-4670-8e78-7f6998963c3b\")>\n",
      "<selenium.webdriver.remote.webelement.WebElement (session=\"8971833f11eb1290c094ed22e92b6cfd\", element=\"ccba443d-4535-4031-8ac3-e553f699e1c1\")>\n",
      "<selenium.webdriver.remote.webelement.WebElement (session=\"8971833f11eb1290c094ed22e92b6cfd\", element=\"54afd382-5430-45de-bc8e-723480ba8460\")>\n",
      "<selenium.webdriver.remote.webelement.WebElement (session=\"8971833f11eb1290c094ed22e92b6cfd\", element=\"8c3b5814-d0e1-472d-a233-32451fb4a9b9\")>\n",
      "<selenium.webdriver.remote.webelement.WebElement (session=\"8971833f11eb1290c094ed22e92b6cfd\", element=\"c46c059e-d947-45a5-af92-e0ec6a7709b5\")>\n",
      "<selenium.webdriver.remote.webelement.WebElement (session=\"8971833f11eb1290c094ed22e92b6cfd\", element=\"6120b48d-2079-41a8-9f67-b3db1fa3f8c8\")>\n",
      "<selenium.webdriver.remote.webelement.WebElement (session=\"8971833f11eb1290c094ed22e92b6cfd\", element=\"31c25eb1-38c7-4731-8224-73026d0bbb85\")>\n",
      "<selenium.webdriver.remote.webelement.WebElement (session=\"8971833f11eb1290c094ed22e92b6cfd\", element=\"40c97715-6de5-42dc-8ac3-9a5f81859f41\")>\n",
      "<selenium.webdriver.remote.webelement.WebElement (session=\"8971833f11eb1290c094ed22e92b6cfd\", element=\"30d9c03a-accf-4229-aac1-dfe9d50ba73e\")>\n",
      "<selenium.webdriver.remote.webelement.WebElement (session=\"8971833f11eb1290c094ed22e92b6cfd\", element=\"dac281bd-11f8-452a-84ec-ae3fa4cb4da1\")>\n",
      "<selenium.webdriver.remote.webelement.WebElement (session=\"8971833f11eb1290c094ed22e92b6cfd\", element=\"a563242b-dd43-466f-8dac-16eeec23d50b\")>\n",
      "<selenium.webdriver.remote.webelement.WebElement (session=\"8971833f11eb1290c094ed22e92b6cfd\", element=\"6bbd1af3-685d-4fbd-b98a-2c22b3a1f7c2\")>\n",
      "<selenium.webdriver.remote.webelement.WebElement (session=\"8971833f11eb1290c094ed22e92b6cfd\", element=\"58f72268-5fcb-42a6-b711-6d94e7f488c6\")>\n",
      "<selenium.webdriver.remote.webelement.WebElement (session=\"8971833f11eb1290c094ed22e92b6cfd\", element=\"8ceb21a7-015f-4d65-a744-64fedc563ad1\")>\n",
      "<selenium.webdriver.remote.webelement.WebElement (session=\"8971833f11eb1290c094ed22e92b6cfd\", element=\"cc53900a-bcd0-4b03-a77b-b83250dc868e\")>\n",
      "<selenium.webdriver.remote.webelement.WebElement (session=\"8971833f11eb1290c094ed22e92b6cfd\", element=\"57ade2aa-114e-4c5b-bc04-2eb514598ed2\")>\n",
      "<selenium.webdriver.remote.webelement.WebElement (session=\"8971833f11eb1290c094ed22e92b6cfd\", element=\"c77e9ee8-ca55-4cf2-bdc3-935d9e66189e\")>\n",
      "<selenium.webdriver.remote.webelement.WebElement (session=\"8971833f11eb1290c094ed22e92b6cfd\", element=\"bc444952-23c9-4bcf-8ab1-24910a76cf4c\")>\n",
      "<selenium.webdriver.remote.webelement.WebElement (session=\"8971833f11eb1290c094ed22e92b6cfd\", element=\"2f6fa731-1f6e-4c6b-8e91-6e26d8bf51d1\")>\n",
      "<selenium.webdriver.remote.webelement.WebElement (session=\"8971833f11eb1290c094ed22e92b6cfd\", element=\"b83ef2fe-7248-4941-a0ad-006fa0d3b17b\")>\n",
      "<selenium.webdriver.remote.webelement.WebElement (session=\"8971833f11eb1290c094ed22e92b6cfd\", element=\"a92ec268-3710-49f2-8ace-adda5549d22e\")>\n",
      "<selenium.webdriver.remote.webelement.WebElement (session=\"8971833f11eb1290c094ed22e92b6cfd\", element=\"7f022605-5f81-4eb5-984b-6a69df3cff63\")>\n",
      "<selenium.webdriver.remote.webelement.WebElement (session=\"8971833f11eb1290c094ed22e92b6cfd\", element=\"34f27bee-bb0b-4b35-99ba-a8690a16b1bb\")>\n",
      "<selenium.webdriver.remote.webelement.WebElement (session=\"8971833f11eb1290c094ed22e92b6cfd\", element=\"712c0247-eb0c-425d-9ae4-f2703b35cdc4\")>\n",
      "<selenium.webdriver.remote.webelement.WebElement (session=\"8971833f11eb1290c094ed22e92b6cfd\", element=\"e9b778ed-595d-44c3-8f19-f3b1ce3f1017\")>\n",
      "<selenium.webdriver.remote.webelement.WebElement (session=\"8971833f11eb1290c094ed22e92b6cfd\", element=\"98b258b6-65c5-4fa1-a21c-516ef9738ddd\")>\n",
      "<selenium.webdriver.remote.webelement.WebElement (session=\"8971833f11eb1290c094ed22e92b6cfd\", element=\"53619ce5-59fc-49b8-9807-c84069fec545\")>\n",
      "<selenium.webdriver.remote.webelement.WebElement (session=\"8971833f11eb1290c094ed22e92b6cfd\", element=\"026639ff-2996-4bc1-ac59-212614f7c2c8\")>\n",
      "<selenium.webdriver.remote.webelement.WebElement (session=\"8971833f11eb1290c094ed22e92b6cfd\", element=\"73a0ff09-d56b-4f1b-aadf-871d78edbbd9\")>\n",
      "<selenium.webdriver.remote.webelement.WebElement (session=\"8971833f11eb1290c094ed22e92b6cfd\", element=\"538d599f-d733-42d2-a71f-3f6872750b6e\")>\n",
      "<selenium.webdriver.remote.webelement.WebElement (session=\"8971833f11eb1290c094ed22e92b6cfd\", element=\"cbc84b68-3092-40a1-8d1a-0e9d12a56a72\")>\n"
     ]
    },
    {
     "name": "stdout",
     "output_type": "stream",
     "text": [
      "<selenium.webdriver.remote.webelement.WebElement (session=\"8971833f11eb1290c094ed22e92b6cfd\", element=\"9bf43a9b-6cee-4cc1-90ad-8ddb714a2cad\")>\n",
      "<selenium.webdriver.remote.webelement.WebElement (session=\"8971833f11eb1290c094ed22e92b6cfd\", element=\"07c752d9-1df3-41b9-8f08-5302eaf0d2dd\")>\n",
      "<selenium.webdriver.remote.webelement.WebElement (session=\"8971833f11eb1290c094ed22e92b6cfd\", element=\"3cba9437-6d5e-4ce8-9f99-b687afd462b5\")>\n",
      "<selenium.webdriver.remote.webelement.WebElement (session=\"8971833f11eb1290c094ed22e92b6cfd\", element=\"36b2f388-ff18-4b60-9b74-38817c4262bf\")>\n",
      "<selenium.webdriver.remote.webelement.WebElement (session=\"8971833f11eb1290c094ed22e92b6cfd\", element=\"41877b11-86fa-40bc-92a1-3bb5d0b21165\")>\n",
      "<selenium.webdriver.remote.webelement.WebElement (session=\"8971833f11eb1290c094ed22e92b6cfd\", element=\"58a16d4c-4f66-49b9-84f6-e2b92917f9cb\")>\n",
      "<selenium.webdriver.remote.webelement.WebElement (session=\"8971833f11eb1290c094ed22e92b6cfd\", element=\"c7d7b9f8-c2ae-4d51-96ce-4c557dd756af\")>\n",
      "<selenium.webdriver.remote.webelement.WebElement (session=\"8971833f11eb1290c094ed22e92b6cfd\", element=\"633444af-29fe-4499-b99e-725f641cf088\")>\n",
      "<selenium.webdriver.remote.webelement.WebElement (session=\"8971833f11eb1290c094ed22e92b6cfd\", element=\"a2b5cf87-708a-479d-a576-27559961e46f\")>\n",
      "<selenium.webdriver.remote.webelement.WebElement (session=\"8971833f11eb1290c094ed22e92b6cfd\", element=\"f15c2993-81ae-43f0-84be-ac691254cfae\")>\n",
      "<selenium.webdriver.remote.webelement.WebElement (session=\"8971833f11eb1290c094ed22e92b6cfd\", element=\"a3ad4ce0-ba4d-468c-8582-8103377a304e\")>\n",
      "<selenium.webdriver.remote.webelement.WebElement (session=\"8971833f11eb1290c094ed22e92b6cfd\", element=\"78ea7673-2795-4b58-989f-90ffa7e51928\")>\n",
      "<selenium.webdriver.remote.webelement.WebElement (session=\"8971833f11eb1290c094ed22e92b6cfd\", element=\"ee6d528d-f3d0-43f4-98ad-467dffb57a71\")>\n",
      "<selenium.webdriver.remote.webelement.WebElement (session=\"8971833f11eb1290c094ed22e92b6cfd\", element=\"065374e9-61e1-4a94-8b49-58aa2a365ed3\")>\n",
      "<selenium.webdriver.remote.webelement.WebElement (session=\"8971833f11eb1290c094ed22e92b6cfd\", element=\"09419295-3872-4f2f-8056-9e60f929a255\")>\n",
      "<selenium.webdriver.remote.webelement.WebElement (session=\"8971833f11eb1290c094ed22e92b6cfd\", element=\"973517ff-5e50-4d7e-9034-a861eef81bac\")>\n",
      "<selenium.webdriver.remote.webelement.WebElement (session=\"8971833f11eb1290c094ed22e92b6cfd\", element=\"de364263-1a02-4892-b60e-45ca2eaf4315\")>\n",
      "<selenium.webdriver.remote.webelement.WebElement (session=\"8971833f11eb1290c094ed22e92b6cfd\", element=\"a1acf413-3e5e-4dd2-8d60-5940e16538c7\")>\n",
      "<selenium.webdriver.remote.webelement.WebElement (session=\"8971833f11eb1290c094ed22e92b6cfd\", element=\"3f79ee06-f6c7-46f8-bb91-36e6a31e8234\")>\n",
      "<selenium.webdriver.remote.webelement.WebElement (session=\"8971833f11eb1290c094ed22e92b6cfd\", element=\"65d47607-670c-461a-b782-8989a8b7b06d\")>\n",
      "<selenium.webdriver.remote.webelement.WebElement (session=\"8971833f11eb1290c094ed22e92b6cfd\", element=\"d11838b3-0a44-4e76-b09f-ffb70c9ca0fa\")>\n",
      "<selenium.webdriver.remote.webelement.WebElement (session=\"8971833f11eb1290c094ed22e92b6cfd\", element=\"1d9e258b-e292-4461-988e-1acee2411a03\")>\n",
      "<selenium.webdriver.remote.webelement.WebElement (session=\"8971833f11eb1290c094ed22e92b6cfd\", element=\"d93d591f-5d29-45c4-a223-fc1698e10501\")>\n",
      "<selenium.webdriver.remote.webelement.WebElement (session=\"8971833f11eb1290c094ed22e92b6cfd\", element=\"0bde5a61-2495-475b-810e-ce572a5ea426\")>\n",
      "<selenium.webdriver.remote.webelement.WebElement (session=\"8971833f11eb1290c094ed22e92b6cfd\", element=\"2bfca692-b07e-4c43-88cc-a7e0bf75721b\")>\n",
      "<selenium.webdriver.remote.webelement.WebElement (session=\"8971833f11eb1290c094ed22e92b6cfd\", element=\"d3694b1f-46b9-48fc-9819-20931a04dafb\")>\n",
      "<selenium.webdriver.remote.webelement.WebElement (session=\"8971833f11eb1290c094ed22e92b6cfd\", element=\"f8706539-b0bb-47c9-8236-d7ec5f7f6aef\")>\n",
      "<selenium.webdriver.remote.webelement.WebElement (session=\"8971833f11eb1290c094ed22e92b6cfd\", element=\"f37eb1fe-aaaa-4ab3-b4a3-5ae55ad5e4f0\")>\n",
      "<selenium.webdriver.remote.webelement.WebElement (session=\"8971833f11eb1290c094ed22e92b6cfd\", element=\"8879908a-271a-4816-a9ce-1ed640445cd6\")>\n",
      "<selenium.webdriver.remote.webelement.WebElement (session=\"8971833f11eb1290c094ed22e92b6cfd\", element=\"edad238e-3a5b-4f02-a825-abb8460abd5d\")>\n",
      "<selenium.webdriver.remote.webelement.WebElement (session=\"8971833f11eb1290c094ed22e92b6cfd\", element=\"ba3e1407-e9cd-4b7c-84ec-e1003621745e\")>\n",
      "<selenium.webdriver.remote.webelement.WebElement (session=\"8971833f11eb1290c094ed22e92b6cfd\", element=\"aed34732-e88a-42ef-88ca-e7c1a18d28d5\")>\n",
      "<selenium.webdriver.remote.webelement.WebElement (session=\"8971833f11eb1290c094ed22e92b6cfd\", element=\"3d76dbf2-3634-4d88-bcfe-5a658bf5f0f6\")>\n",
      "<selenium.webdriver.remote.webelement.WebElement (session=\"8971833f11eb1290c094ed22e92b6cfd\", element=\"3e306c40-07ab-431c-a05a-ac5459de2620\")>\n",
      "<selenium.webdriver.remote.webelement.WebElement (session=\"8971833f11eb1290c094ed22e92b6cfd\", element=\"cb2bd844-abb2-493f-aa0f-445d3437b228\")>\n",
      "<selenium.webdriver.remote.webelement.WebElement (session=\"8971833f11eb1290c094ed22e92b6cfd\", element=\"8623437c-a09e-493d-8782-c4de3df67b4d\")>\n",
      "<selenium.webdriver.remote.webelement.WebElement (session=\"8971833f11eb1290c094ed22e92b6cfd\", element=\"3a26008e-d5ef-4f59-863f-2ed2746aa6e6\")>\n",
      "<selenium.webdriver.remote.webelement.WebElement (session=\"8971833f11eb1290c094ed22e92b6cfd\", element=\"cbc2716a-4618-4ca3-aabe-0c3270cde358\")>\n",
      "<selenium.webdriver.remote.webelement.WebElement (session=\"8971833f11eb1290c094ed22e92b6cfd\", element=\"6dc705e5-09b3-4e10-917b-d6fdf06633a7\")>\n",
      "<selenium.webdriver.remote.webelement.WebElement (session=\"8971833f11eb1290c094ed22e92b6cfd\", element=\"82f79072-7691-4c72-bcdf-9227af17678d\")>\n",
      "<selenium.webdriver.remote.webelement.WebElement (session=\"8971833f11eb1290c094ed22e92b6cfd\", element=\"f8f5b330-7258-40a0-895d-d3dbf3fb59d4\")>\n",
      "<selenium.webdriver.remote.webelement.WebElement (session=\"8971833f11eb1290c094ed22e92b6cfd\", element=\"c91a05a6-74a5-473d-800b-1e7f8af2b878\")>\n",
      "<selenium.webdriver.remote.webelement.WebElement (session=\"8971833f11eb1290c094ed22e92b6cfd\", element=\"63020c5a-824f-42d2-9da4-d67fe9e97a62\")>\n",
      "<selenium.webdriver.remote.webelement.WebElement (session=\"8971833f11eb1290c094ed22e92b6cfd\", element=\"35d09136-01b4-44b7-b166-aac757273578\")>\n",
      "<selenium.webdriver.remote.webelement.WebElement (session=\"8971833f11eb1290c094ed22e92b6cfd\", element=\"c2fb8d9e-d4c6-4c27-968b-f3980a7186b1\")>\n",
      "<selenium.webdriver.remote.webelement.WebElement (session=\"8971833f11eb1290c094ed22e92b6cfd\", element=\"84a701cd-05d5-4f9d-a201-eb31a1f14607\")>\n",
      "<selenium.webdriver.remote.webelement.WebElement (session=\"8971833f11eb1290c094ed22e92b6cfd\", element=\"cfd0fbee-7007-4924-b0ed-6d827c1e550b\")>\n",
      "<selenium.webdriver.remote.webelement.WebElement (session=\"8971833f11eb1290c094ed22e92b6cfd\", element=\"2ca36d9d-b889-448c-9e64-ed37bbc24e42\")>\n",
      "<selenium.webdriver.remote.webelement.WebElement (session=\"8971833f11eb1290c094ed22e92b6cfd\", element=\"b2d8de1e-783a-4578-a429-05414ed4bd50\")>\n",
      "<selenium.webdriver.remote.webelement.WebElement (session=\"8971833f11eb1290c094ed22e92b6cfd\", element=\"0b16c8c0-381f-462a-9886-cc2ff2813fbc\")>\n",
      "<selenium.webdriver.remote.webelement.WebElement (session=\"8971833f11eb1290c094ed22e92b6cfd\", element=\"c17a8ec9-e3f0-4e05-971d-2ad3804a2a5f\")>\n",
      "<selenium.webdriver.remote.webelement.WebElement (session=\"8971833f11eb1290c094ed22e92b6cfd\", element=\"17f5dc03-fd24-43b6-9bff-b5dca8d706a3\")>\n",
      "<selenium.webdriver.remote.webelement.WebElement (session=\"8971833f11eb1290c094ed22e92b6cfd\", element=\"bd342524-532a-40b6-9017-a53fac2a8604\")>\n",
      "<selenium.webdriver.remote.webelement.WebElement (session=\"8971833f11eb1290c094ed22e92b6cfd\", element=\"c1f759b0-1ad0-4d8e-834b-5e7c2febb5e3\")>\n",
      "<selenium.webdriver.remote.webelement.WebElement (session=\"8971833f11eb1290c094ed22e92b6cfd\", element=\"c41d579e-1f6b-417a-b5b5-7bd47dad5922\")>\n",
      "<selenium.webdriver.remote.webelement.WebElement (session=\"8971833f11eb1290c094ed22e92b6cfd\", element=\"ecea26d4-6092-45f4-a117-3fbfa2afe76e\")>\n",
      "<selenium.webdriver.remote.webelement.WebElement (session=\"8971833f11eb1290c094ed22e92b6cfd\", element=\"68c8aca9-a79b-4e21-bd03-50ec53303f32\")>\n",
      "<selenium.webdriver.remote.webelement.WebElement (session=\"8971833f11eb1290c094ed22e92b6cfd\", element=\"7e84c013-f16c-4d37-8b9f-8fce1694a23e\")>\n",
      "<selenium.webdriver.remote.webelement.WebElement (session=\"8971833f11eb1290c094ed22e92b6cfd\", element=\"f1fec259-ea06-4387-b9a5-0ab461b4db7a\")>\n",
      "<selenium.webdriver.remote.webelement.WebElement (session=\"8971833f11eb1290c094ed22e92b6cfd\", element=\"865de915-ff4c-49b1-b881-c343fd59e765\")>\n"
     ]
    }
   ],
   "source": [
    "for row in table.find_elements_by_xpath(\".//tr\"):\n",
    "    for data in row.find_elements_by_xpath(\".//td\"):\n",
    "        print(data)\n",
    "    "
   ]
  },
  {
   "cell_type": "code",
   "execution_count": 18,
   "metadata": {},
   "outputs": [
    {
     "name": "stdout",
     "output_type": "stream",
     "text": [
      "['', '', '', '']\n",
      "['', '', '', '']\n",
      "['', '', '', '']\n",
      "['', '', '', '']\n",
      "['', '', '', '']\n",
      "['', '', '', '']\n",
      "['', '', '', '']\n",
      "['', '', '', '']\n",
      "['', '', '', '']\n",
      "['', '', '', '']\n",
      "['', '', '', '']\n",
      "['', '', '', '']\n",
      "['', '', '', '']\n",
      "['', '', '', '']\n",
      "['', '', '', '']\n",
      "['', '', '', '']\n",
      "['', '', '', '']\n",
      "['', '', '', '']\n",
      "['', '', '', '']\n",
      "['', '', '', '']\n",
      "['', '', '', '']\n",
      "['', '', '', '']\n",
      "['', '', '', '']\n",
      "['', '', '', '']\n",
      "['', '', '', '']\n",
      "['', '', '', '']\n",
      "['', '', '', '']\n",
      "['', '', '', '']\n",
      "['', '', '', '']\n",
      "['', '', '', '']\n",
      "['', '', '', '']\n",
      "['', '', '', '']\n",
      "['', '', '', '']\n",
      "['', '', '', '']\n",
      "['', '', '', '']\n",
      "['', '', '', '']\n",
      "['', '', '', '']\n",
      "['', '', '', '']\n"
     ]
    }
   ],
   "source": [
    "for row in table.find_elements_by_xpath(\".//tr\"):\n",
    "     if len([td.text for td in row.find_elements_by_xpath(\".//td\")])>0:\n",
    "            print([td.text for td in row.find_elements_by_xpath(\".//td\")])\n",
    "            "
   ]
  },
  {
   "cell_type": "code",
   "execution_count": null,
   "metadata": {},
   "outputs": [],
   "source": [
    "<table class=\"table table-row-bordered\"><thead><tr><th><strong>Volume </strong></th><th><strong>Price </strong></th><th><strong>Validity </strong></th><th><strong>Activation Code </strong></th></tr></thead><tbody><tr><td><strong>6GB 4G Pack</strong><br>[4G SIM, 4G Handset and<br>4G Network Required]</td><td>124</td><td>7</td><td>*121*3434#</td></tr><tr><td><strong>20GB 4G Pack</strong><br>[4G SIM, 4G Handset and<br>4G Network Required]</td><td>499</td><td>30</td><td>*121*3435#</td></tr><tr><td><strong>60GB 4G Pack</strong><br>[4G SIM, 4G Handset and<br>4G Network Required]</td><td>999</td><td>30</td><td>*121*3436#</td></tr><tr><td><strong>100GB 4G Pack<br>+ Gold STAR Status</strong><br>[4G SIM, 4G Handset and<br>4G Network Required]</td><td>1,499</td><td>30</td><td>*121*3437#<br>or<br>Type <strong>100GB4G</strong><br>Send to<strong> 25000</strong></td></tr><tr><td><strong>200GB 4G Pack<br>+ Platinum STAR Status</strong><br>[4G SIM, 4G Handset and<br>4G Network Required]</td><td>1,999</td><td>30</td><td>*121*3438#<br>or<br>Type <strong>200GB4G</strong><br>Send to<strong> 25000</strong></td></tr><tr><td>Voice Heavy at Tk 494<br>(600 mins+2GB)</td><td>494</td><td>30</td><td>*121*3447#</td></tr><tr><td>Data Heavy at Tk 599<br>(10GB +300mins)</td><td>599</td><td>30</td><td>*121*3448#</td></tr><tr><td>Voice Heavy at Tk 997<br>(1,200 mins + 6GB)</td><td>997</td><td>30</td><td>*121*3449#</td></tr><tr><td>Data Heavy at Tk 989<br>(25GB+600 mins)</td><td>989</td><td>30</td><td>*121*3450#</td></tr><tr><td>5MB</td><td>2.74</td><td>3</td><td>*121*3002#</td></tr><tr><td>500MB @ 37tk</td><td>37</td><td>3</td><td>*121*3083#</td></tr><tr><td>2GB</td><td>57</td><td>3 (72hours)</td><td>*121*3242#</td></tr><tr><td>1GB</td><td>46</td><td>3 Days</td><td>*121*3399#</td></tr><tr><td>2GB</td><td>98</td><td>7 Days</td><td>*121*3322#</td></tr><tr><td>1GB Weekly</td><td>89</td><td>7</td><td>*121*3056#</td></tr><tr><td>4GB (3GB + 1GB 4G)</td><td>114</td><td>7</td><td>*121*3344#</td></tr><tr><td>8GB (6GB + 2GB 4G)</td><td>148</td><td>7</td><td>*121*3262#</td></tr><tr><td>3GB</td><td>69</td><td>3</td><td>*121*3282#</td></tr><tr><td>1GB</td><td>189</td><td>30</td><td>*121*3390#</td></tr><tr><td>12GB (10GB + 2GB 4G)</td><td>198</td><td>7</td><td>*121*3133#</td></tr><tr><td>1.5GB</td><td>258</td><td>30</td><td>*121*3027#</td></tr><tr><td>3GB</td><td>289</td><td>30</td><td>*121*3391#</td></tr><tr><td>5GB (4GB +1GB 4G)</td><td>299</td><td>30</td><td>*121*3458#</td></tr><tr><td>8GB(6GB+2GB 4G)</td><td>399</td><td>30</td><td>*121*3392#</td></tr><tr><td>12GB</td><td>498</td><td>30</td><td>*121*3459#</td></tr><tr><td>20GB</td><td>649</td><td>30</td><td>*121*3393#</td></tr><tr><td>30GB</td><td>998</td><td>30</td><td>*121*3394#</td></tr><tr><td>Heavy Video pack</td><td>6.56</td><td>3</td><td>*121*3020#</td></tr><tr><td>Social 3 Days</td><td>1.64</td><td>3</td><td>*121*3022#</td></tr><tr><td>Emergency data loan (12MB)</td><td>5</td><td>3</td><td>*121*3021#</td></tr><tr><td>Social 30 days</td><td>20</td><td>28</td><td>*121*3024#</td></tr><tr><td>Social 7 Days</td><td>6.56</td><td>7</td><td>*121*3023#</td></tr><tr><td>2GB Communication Pack<br>[Microsoft Teams<br>Skype for Business<br>Lync<br>Zoom]</td><td>83</td><td>7</td><td>*121*3463#</td></tr><tr><td>4GB Communication Pack<br>[Microsoft Teams<br>Skype for Business<br>Lync<br>Zoom]</td><td>261</td><td>30</td><td>*121*3403#</td></tr><tr><td>10GB Communication Pack<br>[Microsoft Teams<br>Skype for Business<br>Lync<br>Zoom]</td><td>435</td><td>30</td><td>*121*3404#</td></tr><tr><td>20GB Communication Pack<br>[Microsoft Teams<br>Skype for Business<br>Lync<br>Zoom]</td><td>567</td><td>30</td><td>*121*3405#</td></tr><tr><td>30GB Communication Pack<br>[Microsoft Teams<br>Skype for Business<br>Lync<br>Zoom]</td><td>723</td><td>30</td><td>*121*3273#</td></tr><tr><td>40GB Communication Pack<br>[Microsoft Teams<br>Skype for Business<br>Lync<br>Zoom]</td><td>819</td><td>30</td><td>*121*3274#</td></tr></tbody></table>"
   ]
  },
  {
   "cell_type": "code",
   "execution_count": 26,
   "metadata": {},
   "outputs": [
    {
     "ename": "NoSuchElementException",
     "evalue": "Message: no such element: Unable to locate element: {\"method\":\"css selector\",\"selector\":\".table table-row-bordered\"}\n  (Session info: chrome=84.0.4147.135)\n",
     "output_type": "error",
     "traceback": [
      "\u001b[1;31m---------------------------------------------------------------------------\u001b[0m",
      "\u001b[1;31mNoSuchElementException\u001b[0m                    Traceback (most recent call last)",
      "\u001b[1;32m<ipython-input-26-8a4c52911cc7>\u001b[0m in \u001b[0;36m<module>\u001b[1;34m\u001b[0m\n\u001b[1;32m----> 1\u001b[1;33m \u001b[0mdriver\u001b[0m\u001b[1;33m.\u001b[0m\u001b[0mfind_element_by_class_name\u001b[0m\u001b[1;33m(\u001b[0m\u001b[1;34m\"table table-row-bordered\"\u001b[0m\u001b[1;33m)\u001b[0m\u001b[1;33m.\u001b[0m\u001b[0mtext\u001b[0m\u001b[1;33m\u001b[0m\u001b[1;33m\u001b[0m\u001b[0m\n\u001b[0m",
      "\u001b[1;32m~\\AppData\\Local\\Continuum\\anaconda3\\lib\\site-packages\\selenium\\webdriver\\remote\\webdriver.py\u001b[0m in \u001b[0;36mfind_element_by_class_name\u001b[1;34m(self, name)\u001b[0m\n\u001b[0;32m    562\u001b[0m             \u001b[0melement\u001b[0m \u001b[1;33m=\u001b[0m \u001b[0mdriver\u001b[0m\u001b[1;33m.\u001b[0m\u001b[0mfind_element_by_class_name\u001b[0m\u001b[1;33m(\u001b[0m\u001b[1;34m'foo'\u001b[0m\u001b[1;33m)\u001b[0m\u001b[1;33m\u001b[0m\u001b[1;33m\u001b[0m\u001b[0m\n\u001b[0;32m    563\u001b[0m         \"\"\"\n\u001b[1;32m--> 564\u001b[1;33m         \u001b[1;32mreturn\u001b[0m \u001b[0mself\u001b[0m\u001b[1;33m.\u001b[0m\u001b[0mfind_element\u001b[0m\u001b[1;33m(\u001b[0m\u001b[0mby\u001b[0m\u001b[1;33m=\u001b[0m\u001b[0mBy\u001b[0m\u001b[1;33m.\u001b[0m\u001b[0mCLASS_NAME\u001b[0m\u001b[1;33m,\u001b[0m \u001b[0mvalue\u001b[0m\u001b[1;33m=\u001b[0m\u001b[0mname\u001b[0m\u001b[1;33m)\u001b[0m\u001b[1;33m\u001b[0m\u001b[1;33m\u001b[0m\u001b[0m\n\u001b[0m\u001b[0;32m    565\u001b[0m \u001b[1;33m\u001b[0m\u001b[0m\n\u001b[0;32m    566\u001b[0m     \u001b[1;32mdef\u001b[0m \u001b[0mfind_elements_by_class_name\u001b[0m\u001b[1;33m(\u001b[0m\u001b[0mself\u001b[0m\u001b[1;33m,\u001b[0m \u001b[0mname\u001b[0m\u001b[1;33m)\u001b[0m\u001b[1;33m:\u001b[0m\u001b[1;33m\u001b[0m\u001b[1;33m\u001b[0m\u001b[0m\n",
      "\u001b[1;32m~\\AppData\\Local\\Continuum\\anaconda3\\lib\\site-packages\\selenium\\webdriver\\remote\\webdriver.py\u001b[0m in \u001b[0;36mfind_element\u001b[1;34m(self, by, value)\u001b[0m\n\u001b[0;32m    976\u001b[0m         return self.execute(Command.FIND_ELEMENT, {\n\u001b[0;32m    977\u001b[0m             \u001b[1;34m'using'\u001b[0m\u001b[1;33m:\u001b[0m \u001b[0mby\u001b[0m\u001b[1;33m,\u001b[0m\u001b[1;33m\u001b[0m\u001b[1;33m\u001b[0m\u001b[0m\n\u001b[1;32m--> 978\u001b[1;33m             'value': value})['value']\n\u001b[0m\u001b[0;32m    979\u001b[0m \u001b[1;33m\u001b[0m\u001b[0m\n\u001b[0;32m    980\u001b[0m     \u001b[1;32mdef\u001b[0m \u001b[0mfind_elements\u001b[0m\u001b[1;33m(\u001b[0m\u001b[0mself\u001b[0m\u001b[1;33m,\u001b[0m \u001b[0mby\u001b[0m\u001b[1;33m=\u001b[0m\u001b[0mBy\u001b[0m\u001b[1;33m.\u001b[0m\u001b[0mID\u001b[0m\u001b[1;33m,\u001b[0m \u001b[0mvalue\u001b[0m\u001b[1;33m=\u001b[0m\u001b[1;32mNone\u001b[0m\u001b[1;33m)\u001b[0m\u001b[1;33m:\u001b[0m\u001b[1;33m\u001b[0m\u001b[1;33m\u001b[0m\u001b[0m\n",
      "\u001b[1;32m~\\AppData\\Local\\Continuum\\anaconda3\\lib\\site-packages\\selenium\\webdriver\\remote\\webdriver.py\u001b[0m in \u001b[0;36mexecute\u001b[1;34m(self, driver_command, params)\u001b[0m\n\u001b[0;32m    319\u001b[0m         \u001b[0mresponse\u001b[0m \u001b[1;33m=\u001b[0m \u001b[0mself\u001b[0m\u001b[1;33m.\u001b[0m\u001b[0mcommand_executor\u001b[0m\u001b[1;33m.\u001b[0m\u001b[0mexecute\u001b[0m\u001b[1;33m(\u001b[0m\u001b[0mdriver_command\u001b[0m\u001b[1;33m,\u001b[0m \u001b[0mparams\u001b[0m\u001b[1;33m)\u001b[0m\u001b[1;33m\u001b[0m\u001b[1;33m\u001b[0m\u001b[0m\n\u001b[0;32m    320\u001b[0m         \u001b[1;32mif\u001b[0m \u001b[0mresponse\u001b[0m\u001b[1;33m:\u001b[0m\u001b[1;33m\u001b[0m\u001b[1;33m\u001b[0m\u001b[0m\n\u001b[1;32m--> 321\u001b[1;33m             \u001b[0mself\u001b[0m\u001b[1;33m.\u001b[0m\u001b[0merror_handler\u001b[0m\u001b[1;33m.\u001b[0m\u001b[0mcheck_response\u001b[0m\u001b[1;33m(\u001b[0m\u001b[0mresponse\u001b[0m\u001b[1;33m)\u001b[0m\u001b[1;33m\u001b[0m\u001b[1;33m\u001b[0m\u001b[0m\n\u001b[0m\u001b[0;32m    322\u001b[0m             response['value'] = self._unwrap_value(\n\u001b[0;32m    323\u001b[0m                 response.get('value', None))\n",
      "\u001b[1;32m~\\AppData\\Local\\Continuum\\anaconda3\\lib\\site-packages\\selenium\\webdriver\\remote\\errorhandler.py\u001b[0m in \u001b[0;36mcheck_response\u001b[1;34m(self, response)\u001b[0m\n\u001b[0;32m    240\u001b[0m                 \u001b[0malert_text\u001b[0m \u001b[1;33m=\u001b[0m \u001b[0mvalue\u001b[0m\u001b[1;33m[\u001b[0m\u001b[1;34m'alert'\u001b[0m\u001b[1;33m]\u001b[0m\u001b[1;33m.\u001b[0m\u001b[0mget\u001b[0m\u001b[1;33m(\u001b[0m\u001b[1;34m'text'\u001b[0m\u001b[1;33m)\u001b[0m\u001b[1;33m\u001b[0m\u001b[1;33m\u001b[0m\u001b[0m\n\u001b[0;32m    241\u001b[0m             \u001b[1;32mraise\u001b[0m \u001b[0mexception_class\u001b[0m\u001b[1;33m(\u001b[0m\u001b[0mmessage\u001b[0m\u001b[1;33m,\u001b[0m \u001b[0mscreen\u001b[0m\u001b[1;33m,\u001b[0m \u001b[0mstacktrace\u001b[0m\u001b[1;33m,\u001b[0m \u001b[0malert_text\u001b[0m\u001b[1;33m)\u001b[0m\u001b[1;33m\u001b[0m\u001b[1;33m\u001b[0m\u001b[0m\n\u001b[1;32m--> 242\u001b[1;33m         \u001b[1;32mraise\u001b[0m \u001b[0mexception_class\u001b[0m\u001b[1;33m(\u001b[0m\u001b[0mmessage\u001b[0m\u001b[1;33m,\u001b[0m \u001b[0mscreen\u001b[0m\u001b[1;33m,\u001b[0m \u001b[0mstacktrace\u001b[0m\u001b[1;33m)\u001b[0m\u001b[1;33m\u001b[0m\u001b[1;33m\u001b[0m\u001b[0m\n\u001b[0m\u001b[0;32m    243\u001b[0m \u001b[1;33m\u001b[0m\u001b[0m\n\u001b[0;32m    244\u001b[0m     \u001b[1;32mdef\u001b[0m \u001b[0m_value_or_default\u001b[0m\u001b[1;33m(\u001b[0m\u001b[0mself\u001b[0m\u001b[1;33m,\u001b[0m \u001b[0mobj\u001b[0m\u001b[1;33m,\u001b[0m \u001b[0mkey\u001b[0m\u001b[1;33m,\u001b[0m \u001b[0mdefault\u001b[0m\u001b[1;33m)\u001b[0m\u001b[1;33m:\u001b[0m\u001b[1;33m\u001b[0m\u001b[1;33m\u001b[0m\u001b[0m\n",
      "\u001b[1;31mNoSuchElementException\u001b[0m: Message: no such element: Unable to locate element: {\"method\":\"css selector\",\"selector\":\".table table-row-bordered\"}\n  (Session info: chrome=84.0.4147.135)\n"
     ]
    }
   ],
   "source": [
    "driver.find_element_by_class_name(\"table table-row-bordered\").text"
   ]
  },
  {
   "cell_type": "code",
   "execution_count": null,
   "metadata": {},
   "outputs": [],
   "source": []
  }
 ],
 "metadata": {
  "kernelspec": {
   "display_name": "Python 3",
   "language": "python",
   "name": "python3"
  },
  "language_info": {
   "codemirror_mode": {
    "name": "ipython",
    "version": 3
   },
   "file_extension": ".py",
   "mimetype": "text/x-python",
   "name": "python",
   "nbconvert_exporter": "python",
   "pygments_lexer": "ipython3",
   "version": "3.7.4"
  }
 },
 "nbformat": 4,
 "nbformat_minor": 2
}
